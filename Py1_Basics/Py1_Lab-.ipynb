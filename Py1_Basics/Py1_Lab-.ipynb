{
 "cells": [
  {
   "cell_type": "markdown",
   "metadata": {
    "id": "Yfj75KD5eUkf"
   },
   "source": [
    "<h1><center> Programming for AMEP </center></h1>\n",
    "\n",
    "During the Python part of this course, we will mostly work with Jupyter notebooks (just like this one). To learn about the basic synthax and tips of Jupyter notebooks, please go through the text of the section \"Jupyter notebook tips\" below. \n",
    "\n",
    "The first part of each \"Lab\" then contains some small examples that we will test during the lecture, while the second part contains some homework exercises (under the title \"Homework assignment\"), which you will have to hand-in before the next lecture.\n",
    "\n",
    "Note that this first homework assignment will have to be hand-in by the end of the day on Friday September 15."
   ]
  },
  {
   "cell_type": "markdown",
   "metadata": {
    "id": "9YWB774EeUki"
   },
   "source": [
    "<h1><center> <span style='color:red'> Py 1:  Getting familiar with Python </span> </center></h1>\n",
    "\n",
    "In this first notebook you will experiment with some elementary Python code. The main purpose of using this week is to confirm that you can open and run Jupyter notebooks, and to learn basics of Python. \n",
    "\n",
    "For the questions in the lecture part: try to understand the code and anticipate the output before you run the cell. Did it confirm your guess? Great! If not, try to understand why, and, if needed, ask questions to your colleagues, in the discussion section of the course on Canvas, or during the lab session.\n",
    "\n",
    "\n",
    "This first part of the course (Py 1 and 2) is based on the book [*A Whirlwind Tour of Python*](https://jakevdp.github.io/WhirlwindTourOfPython/index.html), by Jake VanderPlas, which is available for free in its online version."
   ]
  },
  {
   "cell_type": "markdown",
   "metadata": {
    "id": "-beyEA17eUkj"
   },
   "source": [
    "<h2><center> <span style='color:red'> 1 - Jupyter notebook tips</span> </center></h2>\n",
    "\n",
    "The Jupyter notebook is a browser-based graphical interface to the shell used to run Python (IPython). It is convenient as it allows to combine formatted text with dynamic visualizations. Cells can be of type *code* or *text*. The current cell type is text (Markdown). Check [here](https://www.markdownguide.org/basic-syntax/) for more details on the Markdown syntax. You can change the cell type by selecting Cell > Cell Type. You can also type formula in LaTeX, for example: $3 x^2+2$.\n",
    "\n",
    "Some IPython tricks you can use in Jupyter notebook:"
   ]
  },
  {
   "cell_type": "markdown",
   "metadata": {},
   "source": [
    "* **Add a new cell:** You can add a new cell by clicking on the \"+\" button in the menu bar at the top of the page, or by pressing the letter <code>a</code>. \n",
    "To run a single cell, you can press Shift+Enter.\n",
    "Using button on the menu bar, you can also cut, copy or paste a selected cell, moves cells, as well as run one cell at a time (Run button), interrupt the current kernel, restart the kernel (you will lose all your current variables and functions), restart the kernel and run the whole notebook.<br>\n",
    "Let's try this functionalities.\n",
    "Add a new cell by pressing <code>a</code> or clicking on \"+\". Define a variable <code> x=1 </code> and run the cell. Add a new cell and run <code> print(x) </code>. First, try to interrupt the kernel and re-run the cell with <code> print(x) </code>. What happens? Now re-start the kernel and re-run the cell with <code> print(x) </code>. What happens?"
   ]
  },
  {
   "cell_type": "markdown",
   "metadata": {},
   "source": [
    "* **Documentation:** You can easily access the documentation of built-in functions with the ? character. Test this by running the following code cell (to run a cell do Shift+Enter):"
   ]
  },
  {
   "cell_type": "code",
   "execution_count": null,
   "metadata": {
    "executionInfo": {
     "elapsed": 11,
     "status": "ok",
     "timestamp": 1631016067625,
     "user": {
      "displayName": "Kiran Muraleedharan",
      "photoUrl": "https://lh3.googleusercontent.com/a-/AOh14GgHTkfr23mAsu2Nov3lrK0__2j7N4zRreSHyVsJQlQ=s64",
      "userId": "11648203220803083063"
     },
     "user_tz": -120
    },
    "id": "E0BG8I16eUkj"
   },
   "outputs": [],
   "source": [
    "int?"
   ]
  },
  {
   "cell_type": "code",
   "execution_count": null,
   "metadata": {},
   "outputs": [],
   "source": [
    "help(int)"
   ]
  },
  {
   "cell_type": "markdown",
   "metadata": {},
   "source": [
    "Also use the error provided within Error messages to correct your code. Ex: what is the error return by the next cell? How can you correct this code?"
   ]
  },
  {
   "cell_type": "code",
   "execution_count": null,
   "metadata": {},
   "outputs": [],
   "source": [
    "print(\"Hello: \" a)"
   ]
  },
  {
   "cell_type": "markdown",
   "metadata": {
    "id": "0JbHychCeUkk"
   },
   "source": [
    "* **Autocompletion:** In python, everything is an object. You can use the Tab key to access to the list of attributes and methods avaible for a given object. Place your cursor after <code>name.</code> and press Tab. Wait a second for a dropdown menu to appear. Can you see it? Select the first element and run."
   ]
  },
  {
   "cell_type": "code",
   "execution_count": null,
   "metadata": {
    "id": "O84wnkdzeUkl",
    "scrolled": true
   },
   "outputs": [],
   "source": [
    "name = \"test\"\n",
    "name.\n",
    "\n",
    "#In Colab this functionality might not work, in that case please ignore this cell"
   ]
  },
  {
   "cell_type": "markdown",
   "metadata": {
    "id": "fLWgGgxueUkl"
   },
   "source": [
    "* **Lasts output:** You can use _ to access the last output (or __ for the second last, and so on)."
   ]
  },
  {
   "cell_type": "code",
   "execution_count": null,
   "metadata": {
    "id": "1hnyZVH-eUkm",
    "scrolled": false
   },
   "outputs": [],
   "source": [
    "2+2"
   ]
  },
  {
   "cell_type": "code",
   "execution_count": null,
   "metadata": {
    "id": "D4WjuWCbeUkm"
   },
   "outputs": [],
   "source": [
    "5+5"
   ]
  },
  {
   "cell_type": "code",
   "execution_count": null,
   "metadata": {
    "id": "tULVMdbseUkm",
    "scrolled": true
   },
   "outputs": [],
   "source": [
    "print(_)\n",
    "print(__)"
   ]
  },
  {
   "cell_type": "markdown",
   "metadata": {
    "id": "slBn0cVIeUkn"
   },
   "source": [
    "* **Debug:** If you face errors (exceptions) that are hard to understand, you can use the <code>%debug</code> tool. Below you can find a rather obvious example. After running the cell, an error message appears. Then run <code>%debug</code>, an ipdb (IPython-enabled Python Debugger) shell will appear, in which you can check the value of different variables. Try <code>print(i)</code> or <code>p(i)</code>, and confirm that the error occurs when the variable <code>i</code> takes the value 0. To quit the ipdb shell type <code>quit</code> or  <code>q</code>."
   ]
  },
  {
   "cell_type": "code",
   "execution_count": null,
   "metadata": {
    "id": "45JxuMQCeUkn"
   },
   "outputs": [],
   "source": [
    "for i in range(10,-1,-1):\n",
    "    c = 10 / i"
   ]
  },
  {
   "cell_type": "code",
   "execution_count": null,
   "metadata": {
    "id": "czHInHz8eUko"
   },
   "outputs": [],
   "source": [
    "%debug"
   ]
  },
  {
   "cell_type": "markdown",
   "metadata": {},
   "source": [
    "* **Magic commands:** \n",
    "  - export the content of a cell to an external file: <code>%%writefile code.py</code>\n",
    "  - import an external file in the current cell: <code>%load code.py</code>\n",
    "  - run an external file: <code>%run code.py</code><br>\n",
    "(note: this doesn't run the cell at the same time, you will have to run the cell a second time to run its newly loaded content)\n",
    "  - get the total execution time of the cell: <code>%%time</code>\n",
    "  - display all the variables used in the notebook: <code>%who</code>\n",
    "  - return the list of all the magic commands: <code>%lsmagic</code>"
   ]
  },
  {
   "cell_type": "code",
   "execution_count": null,
   "metadata": {},
   "outputs": [],
   "source": [
    "%%writefile test.py\n",
    "a = 1\n",
    "print(a)"
   ]
  },
  {
   "cell_type": "code",
   "execution_count": null,
   "metadata": {},
   "outputs": [],
   "source": [
    "%load test_script.py"
   ]
  },
  {
   "cell_type": "code",
   "execution_count": null,
   "metadata": {},
   "outputs": [],
   "source": [
    "%run test.py"
   ]
  },
  {
   "cell_type": "code",
   "execution_count": null,
   "metadata": {},
   "outputs": [],
   "source": [
    "%who"
   ]
  },
  {
   "cell_type": "code",
   "execution_count": null,
   "metadata": {},
   "outputs": [],
   "source": [
    "%%time\n",
    "\n",
    "for i in range(10000):\n",
    "    a = a + i**2"
   ]
  },
  {
   "cell_type": "markdown",
   "metadata": {
    "id": "FfNuFGnreUko"
   },
   "source": [
    "<h2> <span style='color:blue'>Useful: Python Output and Input Syntax\n",
    "   (to test at home)</span> </h2>"
   ]
  },
  {
   "cell_type": "markdown",
   "metadata": {},
   "source": [
    "**Test the following examples: do you understand each command?**"
   ]
  },
  {
   "cell_type": "code",
   "execution_count": null,
   "metadata": {},
   "outputs": [],
   "source": [
    "### print several variables within a text -- Example 1: using coma as separator\n",
    "a=3; b=45.678\n",
    "print('a =', a, ' and b =', b)"
   ]
  },
  {
   "cell_type": "code",
   "execution_count": null,
   "metadata": {},
   "outputs": [],
   "source": [
    "### print several variable within a text -- Example 2:\n",
    "print('a = {} and b = {}'.format(a, b))"
   ]
  },
  {
   "cell_type": "code",
   "execution_count": null,
   "metadata": {},
   "outputs": [],
   "source": [
    "### Scientific representation -- Example 1: using coma as separator\n",
    "print('a = ', format(45.678,'.2E'), '\\n')"
   ]
  },
  {
   "cell_type": "code",
   "execution_count": null,
   "metadata": {},
   "outputs": [],
   "source": [
    "### Using scientific notation -- Example 2:\n",
    "print('a = {:.2e}'.format(45.678))"
   ]
  },
  {
   "cell_type": "code",
   "execution_count": null,
   "metadata": {
    "id": "N1EmrSeQeUko"
   },
   "outputs": [],
   "source": [
    "# Asking a variable to the user:\n",
    "x = int(input(\"Please enter an integer: \"))"
   ]
  },
  {
   "cell_type": "code",
   "execution_count": null,
   "metadata": {
    "id": "Ai-lVBljeUko"
   },
   "outputs": [],
   "source": [
    "if x < 0:\n",
    "    x = 0\n",
    "    print('Negative changed to zero')\n",
    "elif x == 0:\n",
    "    print('Zero')\n",
    "elif x == 1:\n",
    "    print('One')\n",
    "else:\n",
    "    print('Many')"
   ]
  },
  {
   "cell_type": "markdown",
   "metadata": {
    "id": "0jjxP_aJeUkp"
   },
   "source": [
    "**<span style='color:blue'>Q0:</span> Can you write a code that takes two input integers and prints the largest?**"
   ]
  },
  {
   "cell_type": "code",
   "execution_count": null,
   "metadata": {
    "id": "xp1CVTYeeUkp"
   },
   "outputs": [],
   "source": []
  },
  {
   "cell_type": "markdown",
   "metadata": {
    "id": "dDuxhT2ceUkp"
   },
   "source": [
    "<h2><center> <span style='color:red'> 2 - Python Synthax </span> </center></h2>"
   ]
  },
  {
   "cell_type": "code",
   "execution_count": null,
   "metadata": {},
   "outputs": [],
   "source": [
    "# define two variables a and b\n",
    "a=10;    b=20\n",
    "\n",
    "# define c and x\n",
    "c = 3*(b-a)\n",
    "x = 1 + 2 + 3 + 4 +\\\n",
    "5 + 6 + 7 + 8\n",
    "\n",
    "# silly test:\n",
    "if c < 0:\n",
    "    print(b)\n",
    "elif a < 0 and b < 0:\n",
    "    print(c)\n",
    "else:\n",
    "    print(\"a<0 and b<0:\")\n",
    "    print(x)\n",
    "\n",
    "# perfect end:\n",
    "s1 = 'this is a string' \n",
    "s2 = \"another string with double quotes\"\n",
    "s3 = ''' string can span \n",
    "         multiple lines '''\n",
    "print(s2)\n",
    "print(s3)"
   ]
  },
  {
   "cell_type": "markdown",
   "metadata": {},
   "source": [
    "<h2><center> <span style='color:red'> 3 - Variables and Objects</span> </center></h2>"
   ]
  },
  {
   "cell_type": "markdown",
   "metadata": {},
   "source": [
    "<h2><center> Variables </center></h2> \n",
    "\n",
    "In python, a variable is a name given to a memory location, where will be stored a value. A variable is created the\n",
    "moment we assign a first value to it (we don’t need to declare a variable before using it).\n",
    "\n",
    "**Example 1:** Calling an undefined variable returns a <code>NameError</code> message:"
   ]
  },
  {
   "cell_type": "code",
   "execution_count": null,
   "metadata": {},
   "outputs": [],
   "source": [
    "del(x)\n",
    "print(x)"
   ]
  },
  {
   "cell_type": "markdown",
   "metadata": {
    "id": "U5xoneOIeUkp"
   },
   "source": [
    "The value and type of a variable can change during program execution. This happens as variables are in fact pointers to objects. While objects have a specific type, variables can point to objects of any type. (Python is dynamically-typed: variable names can point to objects of any type!)\n",
    "\n",
    "**Example 2:** Below, we create a variable <code>x</code> and assign it (i.e., make it point) to an integer object with value 10. After that, we re-assign variable <code>x</code> so that it points to a string object."
   ]
  },
  {
   "cell_type": "code",
   "execution_count": null,
   "metadata": {
    "id": "NO6-rbSleUkq"
   },
   "outputs": [],
   "source": [
    "x = 10\n",
    "print(x)\n",
    "x = 'hello'\n",
    "print(x)\n",
    "x = \"hello to show no differences between quote and double quote\"\n",
    "print(x)"
   ]
  },
  {
   "cell_type": "markdown",
   "metadata": {
    "id": "DSLQB8exeUkv"
   },
   "source": [
    "**<span style='color:red'>Q1:</span> In the following cell, can you explain why the first expression is evaluated as True and the second False?**"
   ]
  },
  {
   "cell_type": "code",
   "execution_count": null,
   "metadata": {
    "id": "lUJLiLtzeUkv",
    "scrolled": true
   },
   "outputs": [],
   "source": [
    "a = 1.0\n",
    "b = 1.0\n",
    "#<line>\n",
    "print(a == b)\n",
    "print(a is b)"
   ]
  },
  {
   "cell_type": "markdown",
   "metadata": {},
   "source": [
    "**Substitute <code>#\\<line></code> by an additional operation, such that both expressions evaluate to True**"
   ]
  },
  {
   "cell_type": "markdown",
   "metadata": {},
   "source": [
    "**Rules for creating variables:**  In python, variable names:\n",
    " - can only contain letters, numbers, or underscores;\n",
    " - cannot start with a number;\n",
    " - are case sensitive;\n",
    " - keywords can’t be used for naming variables.\n",
    " \n",
    "**<span  style='color:blue'>Tips: (check at home)</span>**"
   ]
  },
  {
   "cell_type": "code",
   "execution_count": null,
   "metadata": {},
   "outputs": [],
   "source": [
    "# Assigning a single value to multiple variables:\n",
    "a = b = c = 10\n",
    "print(a, b, c)"
   ]
  },
  {
   "cell_type": "code",
   "execution_count": null,
   "metadata": {},
   "outputs": [],
   "source": [
    "#Assigning different variables in a single line with the operator ”,”:\n",
    "aA, aa, Aa = 10, \"test\", 200.3\n",
    "print(aA, aa, Aa)\n",
    "#Note: Case sensitive!"
   ]
  },
  {
   "cell_type": "markdown",
   "metadata": {},
   "source": [
    "<h2> <center>Objects, Attributes and Methods </center></h2> \n",
    "\n",
    "Python is an object-oriented programming language, and in Python everything is an object. Each\n",
    "object has a type, and can have attributes and methods. Attributes contain data. Methods are functions that can\n",
    "act on the attributes of the object.\n",
    "\n",
    "Once an object is given an identity (variable name), its attributes and methods can be accessed via\n",
    "the **dot syntax**.\n",
    "\n",
    "**Example 3:** All numerical types have a **real** and **imag** attribute that returns the real and imaginary part of the value, if viewed as a complex number:"
   ]
  },
  {
   "cell_type": "code",
   "execution_count": null,
   "metadata": {},
   "outputs": [],
   "source": [
    "x = 4.5\n",
    "print(x.real, \"+\", x.imag, 'i')"
   ]
  },
  {
   "cell_type": "markdown",
   "metadata": {
    "id": "I8SbJx54eUkq"
   },
   "source": [
    "**<span style='color:red'>Q2:</span> Using a method, can you:**\n",
    " - **generete a string with the same text than x, but with all characters in upper case?**\n",
    " - **split x by word, and create a list that contains each word of x?**\n",
    "\n",
    "*Remember to use Tab to check which methods are available for x.*"
   ]
  },
  {
   "cell_type": "code",
   "execution_count": null,
   "metadata": {
    "id": "pSRDXSSgeUkq"
   },
   "outputs": [],
   "source": [
    "x = \"How is everyone doing so far?\""
   ]
  },
  {
   "cell_type": "markdown",
   "metadata": {},
   "source": [
    "<h2><center> <span style='color:red'> 4 - Types and Operations</span> </center></h2>\n",
    "\n",
    "<h2><center>Types </center></h2>\n",
    "\n",
    "**Object type:** Every object in python has a specific type. There are several simple build-in types, such as the number types (integer, float and complex), Boolean, and string. Python also has more complex types that are built-in data structure.\n",
    "You can find more information on simple types \n",
    "[*here*](https://jakevdp.github.io/WhirlwindTourOfPython/05-built-in-scalar-types.html).\n",
    "\n",
    "**Variable type:** A  variable  automatically  takes  the  type  of  the  value  used  to  define  the  variable. The type of a variable can thus change during program execution.  This happens as variables are in fact pointers to objects, and that the type is a property of an object.  While objects have a specific type, variables can point to objects of any type.  \n",
    "\n",
    "You can check the current type of a variable using the function <code>type()</code>.\n",
    "\n",
    "**Example 4:** Below <code>a</code> initially points to an integer object, and then is re-assigned to a string object:"
   ]
  },
  {
   "cell_type": "code",
   "execution_count": null,
   "metadata": {},
   "outputs": [],
   "source": [
    "a=1 \n",
    "type(a)"
   ]
  },
  {
   "cell_type": "code",
   "execution_count": null,
   "metadata": {},
   "outputs": [],
   "source": [
    "a=\"test\" \n",
    "type(a)"
   ]
  },
  {
   "cell_type": "markdown",
   "metadata": {},
   "source": [
    "**Float limitation and precision:** You can use the <code>sys</code> module, to get information on the values of the largest and the smallest float:"
   ]
  },
  {
   "cell_type": "code",
   "execution_count": null,
   "metadata": {},
   "outputs": [],
   "source": [
    "import sys\n",
    "sys.float_info.max\n",
    "sys.float_info.min"
   ]
  },
  {
   "cell_type": "markdown",
   "metadata": {},
   "source": [
    "<h2><center>Operations </center></h2>\n",
    "\n",
    "Operators are used to perform operations, compare objects, or check membership. In additions to numerical operations, are also: Bitwise operations, assignment operations, comparison operations, Boolean operations, and Identity and membership operations.\n",
    "\n",
    "See [here](https://jakevdp.github.io/WhirlwindTourOfPython/04-semantics-operators.html) for an overview of all the basic operations in python."
   ]
  },
  {
   "cell_type": "markdown",
   "metadata": {
    "id": "pMNSOd_MeUks"
   },
   "source": [
    "<h2>Operations on strings</h2>\n",
    "\n",
    "**<span style='color:blue'>Q4:</span> Can you concatenate the strings <code>a</code>, <code>b</code> and <code>c</code>?**"
   ]
  },
  {
   "cell_type": "code",
   "execution_count": null,
   "metadata": {
    "id": "Ekoly-coeUkr"
   },
   "outputs": [],
   "source": [
    "a = \"My name is\"\n",
    "b = \" R2D2\"\n",
    "c = \".\""
   ]
  },
  {
   "cell_type": "markdown",
   "metadata": {
    "id": "HtBT0wHeeUks"
   },
   "source": [
    "**<span style='color:blue'>Q5:</span> Can you repeat string <code>b</code> 10 times with a code using a maximum of 4 characters?**"
   ]
  },
  {
   "cell_type": "code",
   "execution_count": null,
   "metadata": {
    "id": "hv5hFKLweUks"
   },
   "outputs": [],
   "source": []
  },
  {
   "cell_type": "markdown",
   "metadata": {
    "id": "LfxcJ6nGeUkt"
   },
   "source": [
    "<h2>Operations on Integers and Floats</h2>\n",
    "\n",
    "**<span style='color:red'>Q6:</span> Take <code>a=10</code> and <code>b=3</code>. Can you implement the following operations?**\n",
    "\n",
    "* sum of a and b\n",
    "* a divided by b\n",
    "* integer (or floor) division between a and b\n",
    "* integer remainder after division of a by b\n",
    "* a raised to the power of b"
   ]
  },
  {
   "cell_type": "code",
   "execution_count": null,
   "metadata": {
    "id": "SSb2KBoNeUku"
   },
   "outputs": [],
   "source": []
  },
  {
   "cell_type": "markdown",
   "metadata": {},
   "source": [
    "**<span style='color:red'>Q7:</span> Mixing integers and floats. Which of the following operations return 1.6666666666666666? which ones\n",
    "return 1? Why? Check the types of a//b, c//b, and c%b. Can you comment?**"
   ]
  },
  {
   "cell_type": "code",
   "execution_count": null,
   "metadata": {},
   "outputs": [],
   "source": [
    "a=5; b=3; c=5.\n",
    "print(5/3, 5/3., a/b, c/b, a//b, c//b, a%b, c%b, 5.6%3)"
   ]
  },
  {
   "cell_type": "markdown",
   "metadata": {},
   "source": [
    "**<span style='color:blue'>Q8:</span> Priority rules. Do you understand the results obtained for each of the following operations?**"
   ]
  },
  {
   "cell_type": "code",
   "execution_count": null,
   "metadata": {},
   "outputs": [],
   "source": [
    "print((2.*3.)/4., 2.*(3./4.), 2.*3./4., (2./3.)*4., 2./(3.*4.), 2./3./4.)"
   ]
  },
  {
   "cell_type": "code",
   "execution_count": null,
   "metadata": {},
   "outputs": [],
   "source": [
    "print((2.+3.)/4., 2.+3./4.)"
   ]
  },
  {
   "cell_type": "code",
   "execution_count": null,
   "metadata": {},
   "outputs": [],
   "source": [
    "print(2.*(3//4), 2.*3//4)"
   ]
  },
  {
   "cell_type": "markdown",
   "metadata": {},
   "source": [
    "<h2><center> <span style='color:red'> 5 - Boolean logic and Conditions</sapn> </center></h2>\n",
    "\n"
   ]
  },
  {
   "cell_type": "markdown",
   "metadata": {},
   "source": [
    "<h2>Boolean operations</h2>\n",
    "\n",
    "**<span style='color:red'>Q9:</span> Take <code> a = 10 </code> and <code> b = 20 </code> print the results of the following statement:** \n",
    " - a is equal to 10;\n",
    " - a is larger than 15 and smaller than b;\n",
    " - a is larger than 15 or smaller than b;\n",
    " - a is not equal to b;\n",
    " - a is not larger than b;\n",
    " - a is odd."
   ]
  },
  {
   "cell_type": "code",
   "execution_count": null,
   "metadata": {},
   "outputs": [],
   "source": []
  },
  {
   "cell_type": "markdown",
   "metadata": {},
   "source": [
    "**<span style='color:red'>Q10:</span> Equality tests between two real numbers are not reliable. To see that, run the following code and observe what the output of the test. To check what's happening, print the evolution of the value of <code>x</code> during the execution of the loop (see commented line). How would you correct this issue?**"
   ]
  },
  {
   "cell_type": "code",
   "execution_count": null,
   "metadata": {},
   "outputs": [],
   "source": [
    "x=-1\n",
    "\n",
    "for i in range(10):\n",
    "    x += 0.1\n",
    "    #print(x)\n",
    "if x == 0:\n",
    "    print('The test finds that x = 0')\n",
    "else:\n",
    "    print('The test finds that x is different from 0')"
   ]
  },
  {
   "cell_type": "markdown",
   "metadata": {},
   "source": [
    "**<span style='color:red'>Q11:</span>  Take the following loop, which now iterates 20 times (instead of 10 times), so values of x varies from -1 to +1. <br>We would like to print the value of $i$, only when:**\n",
    " - $x$ should theoretically get the value $x=0$. How would you proceed?\n",
    " - $x$ should theoretically get the value $x=0.1$. How would you proceed?"
   ]
  },
  {
   "cell_type": "code",
   "execution_count": null,
   "metadata": {},
   "outputs": [],
   "source": [
    "x=-1\n",
    "\n",
    "for i in range(20):\n",
    "    print(i, x)\n",
    "    x += 0.1"
   ]
  },
  {
   "cell_type": "markdown",
   "metadata": {},
   "source": [
    "<h1><center> <span style='color:red'>Homework assignment:</span><br><br>\n",
    "    Limits and Precisions of Numerical Types\n",
    "    </center></h1>\n",
    "\n",
    "For the homework assignment, please provide your answers to the following exercises.\n",
    "\n",
    "\n",
    "## **H1. Limits and common errors**  \n",
    "\n",
    "**Limits of float:** Run the two following cells: Can you explain what happens?"
   ]
  },
  {
   "cell_type": "code",
   "execution_count": null,
   "metadata": {},
   "outputs": [],
   "source": [
    "import sys\n",
    "sys.float_info.max\n",
    "x=1.e308\n",
    "y=1.e10\n",
    "x*y"
   ]
  },
  {
   "cell_type": "code",
   "execution_count": null,
   "metadata": {},
   "outputs": [],
   "source": [
    "sys.float_info.min\n",
    "x=1.e-308\n",
    "y=1.e-10\n",
    "x*y"
   ]
  },
  {
   "cell_type": "markdown",
   "metadata": {},
   "source": [
    "**Limit of Integers:** In python2, the following would return a proper result, but not in Python3: What happens?"
   ]
  },
  {
   "cell_type": "code",
   "execution_count": null,
   "metadata": {},
   "outputs": [],
   "source": [
    "sys.int_info.max"
   ]
  },
  {
   "cell_type": "markdown",
   "metadata": {},
   "source": [
    "**Limits and common Errors:** What is returned if you test the following cases? Fill in the table:\n",
    "\n",
    "Case | Output \n",
    "---|---\n",
    "The integer is “too large” | ?\n",
    "The real number is “too large” | ?\n",
    "The real number is “too small” | ?\n",
    "divide by 0 | ?\n",
    "square root of a negative number | ?"
   ]
  },
  {
   "cell_type": "markdown",
   "metadata": {},
   "source": [
    "## H2. Wave packet\n",
    "\n",
    "The probability density function of a Gaussian wave packet in quantum mechanics is:\n",
    "\\begin{align}\n",
    "    \\rho(x)=\\sqrt{\\frac{2}{\\pi}}\\frac{1}{a\\,\\sqrt{1+\\frac{4\\,\\hbar^2t^2}{m^2a^4}}}\\,\\exp\\left(-\\frac{2(x-\\frac{\\hbar k_0}{m}t)^2}{a^2\\,(1+\\frac{4\\hbar^2t^2}{m^2a^4})}\\right)\\,.\n",
    "\\end{align}\n",
    "\n",
    "Take the following numerical values (adapted to the electron):\n",
    "\n",
    " - $a = 10^5$ fm (parameter fixing the width of the wave packet at $t=0$; $1$ fm = $1$ Fermi = $10^{-15}$ m)\n",
    " - $\\hbar = 197$ MeV.fm.c$^{-1}$ (Planck constant; MeV = Mega-electronvolt)\n",
    " - $t = 10^5$ fm.c$^{-1}$ (a chosen time)\n",
    " - $m = 0.5$ MeV.c$^{-2}$ (electron rest mass)\n",
    " - $k_0 = 5.10^{-4}$ fm$^{-1}$ (parameter fixing the speed $\\hbar k_0/m$ of the center of the wave packet)\n",
    " \n",
    "where $c$ is the speed of light.\n",
    "\n",
    "Write a code that calculates the value of $\\rho(x)$ for a chosen value of $x$ specified at the beginning of the code. Take $x = 10^5$ fm. Use intermediate variables to simplify the expression (for instance you can define a variable $u=2\\hbar t/(ma^2)$). In which unit is your result for $\\rho(x)$?\n",
    "\n",
    "Note: It can be useful to keep extra parentheses, if they help make your code more readable."
   ]
  },
  {
   "cell_type": "code",
   "execution_count": null,
   "metadata": {},
   "outputs": [],
   "source": []
  },
  {
   "cell_type": "markdown",
   "metadata": {},
   "source": [
    "## H3. Spreading of a wave packet.\n",
    "\n",
    "The width of a wave packet at time $t$, from question 3, is:\n",
    "\\begin{align}\n",
    "    \\Delta x(t) = \\frac{a}{2}\\,\\sqrt{1+\\frac{4\\,\\hbar^2t^2}{m^2a^4}}\\,.\n",
    "\\end{align}\n",
    "a) For an electron, $a=1$ Angstrom $\\,= 10^{-10}$m. Compute the value of $\\Delta x$ after one second (check the values of $\\hbar$ and $m$ from exercise 3, or look for their values in SI units on internet). Deduce the value of the variation of the width of a wave packet between $t=0$ and $t=1$s.\n",
    "\n",
    "b) Same question for a proton (check the value of the mass of the proton on internet).\n",
    "\n",
    "c) Same question for a sphere of $1$mm diameter and of density $10^3$ kg/m$^3$, with $a=1\\,\\mu$m.\n",
    "\n",
    "Let us denote $u=\\displaystyle\\frac{2\\hbar t}{ma^2}$. Fill in the following table with the values of $u$, $u^2$, and the Variation of $\\Delta x$ (in m) between $t=0$ and $t=1$s:\n",
    "\n",
    "_ | $u$ | $u^2$ | Variation of $\\Delta x$ (m)\n",
    "---|---|---|---\n",
    "Electron |  |  | \n",
    "Proton |  |  | \n",
    "Sphere |  |  | \n"
   ]
  },
  {
   "cell_type": "code",
   "execution_count": null,
   "metadata": {},
   "outputs": [],
   "source": [
    "## a. Electron:"
   ]
  },
  {
   "cell_type": "code",
   "execution_count": null,
   "metadata": {},
   "outputs": [],
   "source": [
    "## b. Proton:"
   ]
  },
  {
   "cell_type": "code",
   "execution_count": null,
   "metadata": {},
   "outputs": [],
   "source": [
    "## c. Sphere:"
   ]
  },
  {
   "cell_type": "markdown",
   "metadata": {},
   "source": [
    "## H4. Quadratic equation.\n",
    "\n",
    "1) Using condition statements and using only real variables, write a script that find the roots of the quadratic equation <code>ax^2 + bx + c</code> for any input real coefficients <code>a</code>, <code>b</code> and <code>c</code>. The function must take into account possible exceptions, such as if <code>a=0</code>, or if <code>a=b=0</code>, or if <code>a=b=c=0</code>.\n",
    "\n",
    "!! Write the code using only real variables !!"
   ]
  },
  {
   "cell_type": "code",
   "execution_count": null,
   "metadata": {},
   "outputs": [],
   "source": []
  },
  {
   "cell_type": "markdown",
   "metadata": {},
   "source": [
    "2) Using the complex math library <code>cmath</code>, re-write the previous function by directly calculating the roots of the quadratic equation on complex numbers."
   ]
  },
  {
   "cell_type": "code",
   "execution_count": null,
   "metadata": {},
   "outputs": [],
   "source": []
  }
 ],
 "metadata": {
  "colab": {
   "name": "Lab1.ipynb",
   "provenance": []
  },
  "kernelspec": {
   "display_name": "Python 3 (ipykernel)",
   "language": "python",
   "name": "python3"
  },
  "language_info": {
   "codemirror_mode": {
    "name": "ipython",
    "version": 3
   },
   "file_extension": ".py",
   "mimetype": "text/x-python",
   "name": "python",
   "nbconvert_exporter": "python",
   "pygments_lexer": "ipython3",
   "version": "3.10.0"
  }
 },
 "nbformat": 4,
 "nbformat_minor": 1
}
