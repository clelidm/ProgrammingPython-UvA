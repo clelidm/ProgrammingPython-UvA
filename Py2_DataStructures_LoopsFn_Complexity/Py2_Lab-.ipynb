{
 "cells": [
  {
   "cell_type": "markdown",
   "metadata": {
    "id": "Yfj75KD5eUkf"
   },
   "source": [
    "<h1><center> Programming in Python </center></h1>"
   ]
  },
  {
   "cell_type": "markdown",
   "metadata": {
    "id": "9YWB774EeUki"
   },
   "source": [
    "<h1><center> <span style='color:red'> Py 2: Bases of Programming in Python </span> </center></h1>\n",
    "\n",
    "As for the first lab: try to understand the code and anticipate the output before you run the cell. Did it confirm your guess? Great! If not, try to understand why, and, if needed, ask questions to your colleagues, in the discussion section of the course on Canvas, or during the lab session.\n",
    "\n",
    "Reminder for Jupyter notebook: Check [here](https://www.markdownguide.org/basic-syntax/) for more details on the Markdown syntax. You can change the cell type by selecting Cell > Cell Type.\n",
    "\n",
    "\n",
    "This first part of this course is based on the book [*A Whirlwind Tour of Python*](https://jakevdp.github.io/WhirlwindTourOfPython/index.html), by Jake VanderPlas, which is available for free in its online version."
   ]
  },
  {
   "cell_type": "markdown",
   "metadata": {
    "id": "3MgF5G3aeUkx"
   },
   "source": [
    "<h2><center> <span style='color:red'>I - Python built-in data structures</span> </center></h2>\n",
    "<h2><span style='color:red'>I.1. List <span></center></h2>\n",
    "\n",
    "<h3>Definition:</h3>\n",
    "\n",
    "Lists are **ordered and mutable collection of objects**. They are defined using square brackets [] and the elements of the lists are separated by a comma. \n",
    "\n",
    "**Ordered elements:** The fact that elements are ordered allow to access any elements of the List via *indexing* or *slicing*.\n",
    "\n",
    "*Indexing:* You can access to any element of the List using its index. The index of the elements of the List starts from '0'. The last element of the list can also be access with the index '-1'; the previous to last with index '-2', etc. \n",
    "\n",
    "*Slicing:* You can access multiple values in sub-lists using the slicing syntax. For instance, <code>L[3:9]</code> returns a sub-list of <code>L</code>, starting from the element with index 3 (<code>L[3]</code>) and stopping with the element of index 8 (<code>L[8]</code>, i.e. element with index 9 excluded).\n",
    "\n",
    "*Accessing an element is O(1):* as a side note for those among you who are familiar with other languages, in python List are in fact implemented as arrays, which is why you can directly access any elements of the List with complexity O(1).\n",
    "\n",
    "**Operation:** You can concatenate lists using the addition operator <code>+</code>. You can check the membership of an object within a list using the membership operators <code>in</code> or <code>not in</code>. \n",
    "\n",
    "\n",
    "<span style='color:red'>**Simple examples:**</span> Check if you understand what happens when running each of the following inputs: "
   ]
  },
  {
   "cell_type": "code",
   "execution_count": null,
   "metadata": {
    "id": "wS2T0i3NeUkx"
   },
   "outputs": [],
   "source": [
    "# define a list of string:\n",
    "fruits = ['orange', 'apple', 'pear', 'banana', 'kiwi', 'apple', 'banana']"
   ]
  },
  {
   "cell_type": "code",
   "execution_count": null,
   "metadata": {},
   "outputs": [],
   "source": [
    "# Indexing: access an element:\n",
    "print(fruits[4])\n",
    "print(fruits[-1])"
   ]
  },
  {
   "cell_type": "code",
   "execution_count": null,
   "metadata": {},
   "outputs": [],
   "source": [
    "# Modify an element via indexing:\n",
    "fruits[0]='ananas'"
   ]
  },
  {
   "cell_type": "code",
   "execution_count": null,
   "metadata": {
    "id": "YVdHS1JneUky"
   },
   "outputs": [],
   "source": [
    "# Slicing: access several elements:\n",
    "fruits[2:5]"
   ]
  },
  {
   "cell_type": "code",
   "execution_count": null,
   "metadata": {},
   "outputs": [],
   "source": [
    "fruits[::2]  # equivalent to fruits[0:len(fruits):2]"
   ]
  },
  {
   "cell_type": "code",
   "execution_count": null,
   "metadata": {},
   "outputs": [],
   "source": [
    "fruits[::-1]"
   ]
  },
  {
   "cell_type": "code",
   "execution_count": null,
   "metadata": {},
   "outputs": [],
   "source": [
    "# The addition '+' concatenates lists:\n",
    "veggies = ['aubergine', 'carrot', 'potato']\n",
    "fruits + veggies"
   ]
  },
  {
   "cell_type": "code",
   "execution_count": null,
   "metadata": {},
   "outputs": [],
   "source": [
    "# Check membership:\n",
    "print('\\'apple\\' in fruits:', 'apple' in fruits)\n",
    "print('\\'carrot\\' in fruits:','carrot' in fruits)\n",
    "print('\\'apple\\' not in fruits:', 'apple' not in fruits)"
   ]
  },
  {
   "cell_type": "code",
   "execution_count": null,
   "metadata": {},
   "outputs": [],
   "source": [
    "# Check membership:\n",
    "'carrot' in fruits\n",
    "'carrot' not in fruits"
   ]
  },
  {
   "cell_type": "markdown",
   "metadata": {},
   "source": [
    "<h3> Mixing types: </h3>\n",
    "\n",
    "While we are demonstrating lists containing values of a single type, one of the powerful features of Python's compound objects is that they can contain objects of any type, or even a mix of types.\n",
    "\n",
    "This flexibility is a consequence of Python's dynamic type system (that wouldn't be possible in a statically-typed language like C). Lists can even contain other lists as elements. Such type flexibility is an essential piece of what makes Python code relatively quick and easy to write.\n",
    "\n",
    "For example:"
   ]
  },
  {
   "cell_type": "code",
   "execution_count": null,
   "metadata": {},
   "outputs": [],
   "source": [
    "# Example of a list mixing types:\n",
    "L = [1, 'two', 3.14, [0, 3, 5]]"
   ]
  },
  {
   "cell_type": "markdown",
   "metadata": {},
   "source": [
    "<h3>Functions and Methods:</h3>\n",
    "\n",
    "Lists have a number of useful properties and methods available to them. Here we'll take a quick look at some of the more common and useful ones.\n",
    "\n",
    "**<span style='color:red'>Q1.</span> For each of the following cells, can you find a function or a method that computes the quantity described in the comment?** <br>\n",
    "Tip: remember to press 'Tab' to autocomplete, and to use <code>?</code> to access the documentation of methods (ex. <code>fruits.count?</code>)."
   ]
  },
  {
   "cell_type": "code",
   "execution_count": null,
   "metadata": {},
   "outputs": [],
   "source": [
    "# get the length of the fruits list with the function len():"
   ]
  },
  {
   "cell_type": "code",
   "execution_count": null,
   "metadata": {
    "id": "PZvpRbuTeUky"
   },
   "outputs": [],
   "source": [
    "# Using a method, Count how many times the element 'apple' occurs in the fruits list:"
   ]
  },
  {
   "cell_type": "code",
   "execution_count": null,
   "metadata": {
    "id": "2iVKkFn9eUky"
   },
   "outputs": [],
   "source": [
    "# Search for the index of the element 'orange' in the fruits list:"
   ]
  },
  {
   "cell_type": "code",
   "execution_count": null,
   "metadata": {},
   "outputs": [],
   "source": [
    "# add a new element at the end of the fruits list using \".append()\":"
   ]
  },
  {
   "cell_type": "code",
   "execution_count": null,
   "metadata": {
    "id": "ZHJQXUGpeUk0"
   },
   "outputs": [],
   "source": [
    "# insert a new object 'strawberry' at the position with index 5 of the fruits list:"
   ]
  },
  {
   "cell_type": "code",
   "execution_count": null,
   "metadata": {},
   "outputs": [],
   "source": [
    "# Remove ('pop') the element at the index 5 of the fruits list (which is the element 'strawberry' that you just inserted)"
   ]
  },
  {
   "cell_type": "code",
   "execution_count": null,
   "metadata": {
    "id": "_hBwXr0GeUkz"
   },
   "outputs": [],
   "source": [
    "# sort the fruits list by alphabetical order:"
   ]
  },
  {
   "cell_type": "markdown",
   "metadata": {},
   "source": [
    "<h3>Operations on lists:</h3>\n",
    "\n",
    "**<span style='color:blue'> Q2.</span> Can you add the list of new elements <code>['tomato', 'pear', 'mango']</code> at the end the fruits list?**"
   ]
  },
  {
   "cell_type": "code",
   "execution_count": null,
   "metadata": {},
   "outputs": [],
   "source": [
    "# add the list of new elements ['tomato', 'pear', 'mango'] at the end the fruits list (use the operator '+'):"
   ]
  },
  {
   "cell_type": "markdown",
   "metadata": {
    "id": "4D14XW8MeUk1"
   },
   "source": [
    "<h3>Mutable elements:</h3>\n",
    "\n",
    "**<span style='color:red'> Q3.a.</span> In the following code, what will be the value of the listed pointed by x? Can you explain why? (put your explaination in a markdown cell)** \n",
    "\n",
    "Test your intuition by running <code>print(x)</code>"
   ]
  },
  {
   "cell_type": "code",
   "execution_count": null,
   "metadata": {
    "id": "dX-v766AeUk1"
   },
   "outputs": [],
   "source": [
    "x = [1, 10, 3, 4, 5, 6, 7, 8]\n",
    "y = x\n",
    "y[1] = 2"
   ]
  },
  {
   "cell_type": "code",
   "execution_count": null,
   "metadata": {
    "id": "K4hZ5tlDeUk1"
   },
   "outputs": [],
   "source": []
  },
  {
   "cell_type": "markdown",
   "metadata": {
    "id": "rZRDbHzHeUk1"
   },
   "source": [
    "**<span style='color:red'> Q3.b.</span> In the following code, what will be the value of the value pointed by x? Can you explain why? What is the difference to the previous example?** \n",
    "\n",
    "Test your intuition by running <code>print(x)</code>"
   ]
  },
  {
   "cell_type": "code",
   "execution_count": null,
   "metadata": {},
   "outputs": [],
   "source": [
    "x = 10\n",
    "y = x\n",
    "y = 20\n",
    "x"
   ]
  },
  {
   "cell_type": "markdown",
   "metadata": {
    "id": "bJqv57XeeUk2"
   },
   "source": [
    "<h3>Indexing and slicing:</h3>\n",
    "\n",
    "**<span style='color:blue'> Q4.</span> Can you write a one-line code that performs the operation described in comment:**"
   ]
  },
  {
   "cell_type": "code",
   "execution_count": null,
   "metadata": {},
   "outputs": [],
   "source": [
    "x = [0, 1, 2, 3, 4, 5, 6, 7]"
   ]
  },
  {
   "cell_type": "code",
   "execution_count": null,
   "metadata": {},
   "outputs": [],
   "source": [
    "# returns a list with the elements of x from the 3rd to the second-last element (inclusive)"
   ]
  },
  {
   "cell_type": "code",
   "execution_count": null,
   "metadata": {
    "id": "ryfr8nnLeUk3"
   },
   "outputs": [],
   "source": [
    "# returns a list with the elements of x in even positions (0, 2, 4, 6 ...):"
   ]
  },
  {
   "cell_type": "code",
   "execution_count": null,
   "metadata": {
    "id": "BmiHg-vMeUk3"
   },
   "outputs": [],
   "source": [
    "# returns a list with the elements of x in odd positions (1, 3, 5...) in reverse order"
   ]
  },
  {
   "cell_type": "markdown",
   "metadata": {
    "id": "xq3gMli_eUk3"
   },
   "source": [
    "<h2> <span style='color:red'>I.2. Tuple </span></h2>\n",
    "\n",
    "<h3>Definition:</h3>\n",
    "\n",
    "Tuples are **ordered and immutable collection of objects**. They are defined using parentheses <code>()</code> (or without any brakets at all) and the elements of the lists are separated by a comma.\n",
    "\n",
    "**Immutable objects:** Tuples are in many ways similar to lists, the main difference is that elements are immutable: this means that once they are created, their size and contents cannot be changed.\n",
    "\n",
    "**Convert to a list:** You can convert a tuple <code>t</code> (immutable elements) to a list <code>l</code> (mutable elements) using the function <code>l=list(t)</code>.\n",
    "\n",
    "**Simple examples:** Check if you understand what happens when running each of the following inputs:"
   ]
  },
  {
   "cell_type": "code",
   "execution_count": null,
   "metadata": {
    "id": "zk92dd9TeUk3",
    "scrolled": true
   },
   "outputs": [],
   "source": [
    "# define a tuple:\n",
    "t = (1,2,3)\n",
    "print(t)\n",
    "\n",
    "# Or:\n",
    "t=1,2,3\n",
    "print(t)"
   ]
  },
  {
   "cell_type": "code",
   "execution_count": null,
   "metadata": {},
   "outputs": [],
   "source": [
    "# Example of a Tuple mixing types:\n",
    "T = (1, 'two', 3.14, [0, 3, 5])\n",
    "print(T)\n",
    "type(T)"
   ]
  },
  {
   "cell_type": "code",
   "execution_count": null,
   "metadata": {},
   "outputs": [],
   "source": [
    "# like lists: access an element via indexing:\n",
    "t[0]"
   ]
  },
  {
   "cell_type": "code",
   "execution_count": null,
   "metadata": {},
   "outputs": [],
   "source": [
    "# Unlike lists: modifying a tuple is not allowed:\n",
    "t.append(4)"
   ]
  },
  {
   "cell_type": "code",
   "execution_count": null,
   "metadata": {},
   "outputs": [],
   "source": [
    "# Unlike lists: modifying a tuple is not allowed:\n",
    "t[2] = 5"
   ]
  },
  {
   "cell_type": "markdown",
   "metadata": {
    "id": "-56sRj9ZeUk3"
   },
   "source": [
    "**<span style='color:red'>Q5.</span> The previous cell should generate a TypeError. Can you explain why? Can you create a list with the same values as <code>t</code> and assign <code>5</code> to position <code>2</code> of the newly created list?**"
   ]
  },
  {
   "cell_type": "code",
   "execution_count": null,
   "metadata": {
    "id": "j_Zt3jXoeUk4"
   },
   "outputs": [],
   "source": []
  },
  {
   "cell_type": "markdown",
   "metadata": {},
   "source": [
    "**<span style='color:blue'>Q6.</span> Several functions and methods used for lists are also available for tuples. For each cell, can you find a function or a method that computes the quantity described in the comment?** <br>"
   ]
  },
  {
   "cell_type": "code",
   "execution_count": null,
   "metadata": {},
   "outputs": [],
   "source": [
    "# like lists: get the length with len():"
   ]
  },
  {
   "cell_type": "code",
   "execution_count": 103,
   "metadata": {},
   "outputs": [],
   "source": [
    "# Count how many times the number 1 occurs in the tuple t:"
   ]
  },
  {
   "cell_type": "code",
   "execution_count": 102,
   "metadata": {},
   "outputs": [],
   "source": [
    "# Find the smaller index of the number 1 in t:"
   ]
  },
  {
   "cell_type": "markdown",
   "metadata": {},
   "source": [
    "<h3>Use of tuples:</h3>\n",
    "\n",
    "A common use of Tuples is in functions that return multiple values.\n",
    "\n",
    "For example, the <code>as_integer_ratio()</code> method of floating-point objects returns a numerator and a denominator. This dual return value comes in the form of a tuple:"
   ]
  },
  {
   "cell_type": "code",
   "execution_count": null,
   "metadata": {},
   "outputs": [],
   "source": [
    "x = 0.125\n",
    "x.as_integer_ratio()"
   ]
  },
  {
   "cell_type": "markdown",
   "metadata": {},
   "source": [
    "**<span style='color:red'>Q7.</span> Can you individually assign the returned values to two variables <code>numerator</code> and <code>denominator</code>, and then print separately the numerator, the denominator, and their ratio?**"
   ]
  },
  {
   "cell_type": "code",
   "execution_count": null,
   "metadata": {},
   "outputs": [],
   "source": []
  },
  {
   "cell_type": "markdown",
   "metadata": {
    "id": "WITPYRddeUk4"
   },
   "source": [
    "<h2> <span style='color:red'>I.3. Dictionaries </span></h2>\n",
    "\n",
    "<h3>Definition:</h3>\n",
    "\n",
    "Dictionaries are collection of **maps between keys and values**. They are defined using curly braces <code>{}</code>, elements of the list are separated by a coma and are pairs of the form <code>key:value</code>.\n",
    "\n",
    "**Accessing an element:** You can access or set the value of any item in the Dictionary using its key, via the indexing syntax used for lists and tuples.\n",
    "\n",
    "**Comments:** In a Dictionary the order of the elements doesn't matter (as elements are accessed by their key, and not by there position -- elements are actually not ordered). This lack of ordering allows dictionaries to be implemented very efficiently, so that random element access is very fast, regardless of the size of the dictionary. \n",
    "\n",
    "**<span style='color:red'>Simple examples:</span>** Check if you understand what happens when running each of the following inputs:\n"
   ]
  },
  {
   "cell_type": "code",
   "execution_count": 17,
   "metadata": {
    "scrolled": true
   },
   "outputs": [
    {
     "data": {
      "text/plain": [
       "{'carrot': 10, 'mango': 3}"
      ]
     },
     "execution_count": 17,
     "metadata": {},
     "output_type": "execute_result"
    }
   ],
   "source": [
    "# define a dictionary :\n",
    "shopping = {'carrot': 10, 'mango': 3}\n",
    "shopping"
   ]
  },
  {
   "cell_type": "code",
   "execution_count": null,
   "metadata": {},
   "outputs": [],
   "source": [
    "# access a value via the indexing syntax using the key:\n",
    "shopping['mango']"
   ]
  },
  {
   "cell_type": "code",
   "execution_count": null,
   "metadata": {},
   "outputs": [],
   "source": [
    "# set a new value via the indexing syntax using the key:\n",
    "shopping['mango'] = 6\n",
    "shopping"
   ]
  },
  {
   "cell_type": "code",
   "execution_count": null,
   "metadata": {},
   "outputs": [],
   "source": [
    "# add a new item (pair key:value) via the indexing syntax:\n",
    "shopping['orange'] = 5\n",
    "shopping"
   ]
  },
  {
   "cell_type": "markdown",
   "metadata": {},
   "source": [
    "**<span style='color:blue'>Q8.</span> For each cell, can you find a function that computes the quantity described in the comment:** <br>\n",
    "Tip: remember to press 'Tab' to autocomplete and use <code>?</code> access documentation of methods (ex. <code>fruits.count?</code>)."
   ]
  },
  {
   "cell_type": "code",
   "execution_count": null,
   "metadata": {
    "id": "ZxklxsNueUk4"
   },
   "outputs": [],
   "source": [
    "# print all the keys of the dictionary shopping:"
   ]
  },
  {
   "cell_type": "code",
   "execution_count": 21,
   "metadata": {
    "id": "vERlC3T7eUk4"
   },
   "outputs": [],
   "source": [
    "# check membership: check if 'orange' is in shopping:"
   ]
  },
  {
   "cell_type": "markdown",
   "metadata": {},
   "source": [
    "<h3>Example of use of dictionaries:</h3>\n",
    "\n"
   ]
  },
  {
   "cell_type": "markdown",
   "metadata": {
    "id": "a1sfJhMZeUk4"
   },
   "source": [
    "<h2><span style='color:red'>I.4. Sets</span></h2>\n",
    "\n",
    "<h3>Definition:</h3>\n",
    "\n",
    "Sets are **unordered collections of unique** items. They are defined using curly braces <code>{}</code> and elements are comma-separated. \n",
    "\n",
    "As for sets in mathematics, you can perform operations such as union, intersection, difference, symmetric difference, and others. Python's sets have all of these operations built-in, via methods or operators. For each, we'll show the two equivalent methods:\n",
    "\n",
    "**<span style='color:red'>Simple examples:</span>** Check if you understand what happens when running each of the following inputs:\n",
    "\n"
   ]
  },
  {
   "cell_type": "code",
   "execution_count": null,
   "metadata": {
    "id": "E3vxt7sVeUk4"
   },
   "outputs": [],
   "source": [
    "# define two sets:\n",
    "primes = {2, 3, 5, 7}\n",
    "odds = set(range(1,10,2))\n",
    "print(primes)\n",
    "print(odds)"
   ]
  },
  {
   "cell_type": "code",
   "execution_count": null,
   "metadata": {
    "id": "axtMbgHUeUk5"
   },
   "outputs": [],
   "source": [
    "# union: union of the two sets, primes and odds:\n",
    "primes | odds"
   ]
  },
  {
   "cell_type": "code",
   "execution_count": null,
   "metadata": {
    "id": "fB6h0Ov8eUk5"
   },
   "outputs": [],
   "source": [
    "# intersection: items appearing in both set\n",
    "primes & odds"
   ]
  },
  {
   "cell_type": "code",
   "execution_count": null,
   "metadata": {
    "id": "HeQUv4YJeUk5"
   },
   "outputs": [],
   "source": [
    "# difference: items in odds but not in primes\n",
    "odds - primes"
   ]
  },
  {
   "cell_type": "markdown",
   "metadata": {
    "id": "gQS7lbP9eUk5"
   },
   "source": [
    "**<span style='color:red'>Q9.</span> Can you write 1-line of code to count the number of integers from 0 to 10 that are prime and even?**"
   ]
  },
  {
   "cell_type": "code",
   "execution_count": null,
   "metadata": {
    "id": "ngmox-6IeUk5"
   },
   "outputs": [],
   "source": []
  },
  {
   "cell_type": "markdown",
   "metadata": {
    "id": "l1o6W-d2eUk5"
   },
   "source": [
    "<h2><center> <span style='color:red'> II - Loops </span></center></h2>\n",
    "\n",
    "Loops are a way to repeatedly execute some code statement. \n",
    "\n",
    "<h2><span style='color:red'>II.1. <code>For</code> Loops: </span></h2>\n",
    "\n",
    "In python, it is possible to use <code>for</code> loops to iterate over iterator (i.e., any object that is *iterable*), such as Lists, Strings, Tuples, or others.<br>\n",
    "Try the following examples:"
   ]
  },
  {
   "cell_type": "code",
   "execution_count": null,
   "metadata": {
    "id": "GZKTZWumeUk5"
   },
   "outputs": [],
   "source": [
    "# iteration over the characters of a string:\n",
    "for l in 'words':\n",
    "    print(l)"
   ]
  },
  {
   "cell_type": "code",
   "execution_count": null,
   "metadata": {
    "id": "oIdv6lcOeUk5"
   },
   "outputs": [],
   "source": [
    "# iteration over the elements of a list:\n",
    "for word in ['cat', 'mouse', 'elephant']:\n",
    "    print(word, len(word))"
   ]
  },
  {
   "cell_type": "code",
   "execution_count": null,
   "metadata": {
    "id": "wWrnsC6zeUk6"
   },
   "outputs": [],
   "source": [
    "# iteration over the elements of a set:\n",
    "# Notice that the order does not matter.\n",
    "\n",
    "setwords = {'cat', 'mouse', 'elephant'}\n",
    "for w in setwords:\n",
    "    print(w, len(w))"
   ]
  },
  {
   "cell_type": "markdown",
   "metadata": {},
   "source": [
    "**<code>Range</code> object:** The <code>range</code> object is another type of iterator, which generates a sequence of numbers. It is one of the most commonly-used iterators in Python.<br>\n",
    "The syntax for Range is similar to the syntax for slicing Lists. See the following examples:"
   ]
  },
  {
   "cell_type": "code",
   "execution_count": null,
   "metadata": {},
   "outputs": [],
   "source": [
    "# Range from 5 to 10:\n",
    "for i in range(5,10):\n",
    "    print(i, end=' ')"
   ]
  },
  {
   "cell_type": "code",
   "execution_count": null,
   "metadata": {
    "id": "cIde0wnBeUk6"
   },
   "outputs": [],
   "source": [
    "# Iteration over the elements of a range object:\n",
    "# Note: the range starts at zero by default,\n",
    "# and by convention the top of the range is not included in the output\n",
    "\n",
    "for i in range(10):\n",
    "    print(i, end=' ')  # print all on same line"
   ]
  },
  {
   "cell_type": "code",
   "execution_count": null,
   "metadata": {},
   "outputs": [],
   "source": [
    "# Range from 0 to 10 by 2\n",
    "# Converted to a list:\n",
    "list(range(0, 10, 2))"
   ]
  },
  {
   "cell_type": "markdown",
   "metadata": {
    "id": "ThIu_iCieUk6"
   },
   "source": [
    "**<span style='color:red'>Q10.</span> For the following list, can you iterate over the list and print both the index (0, 1 or 2) and the list entry ('cat', 'mouse', 'elephant'), all in the same line?**"
   ]
  },
  {
   "cell_type": "code",
   "execution_count": 24,
   "metadata": {
    "id": "9stQMhNfeUk6"
   },
   "outputs": [],
   "source": [
    "l=['cat', 'mouse', 'elephant']"
   ]
  },
  {
   "cell_type": "markdown",
   "metadata": {
    "id": "xWeXgceQeUk6"
   },
   "source": [
    "**<span style='color:blue'>Q11.</span> For the following dictionary, can you output all the entries (i.e., each pair key:value) of the dictionary?**<br>\n",
    "Tip: use the method <code>.items()</code>"
   ]
  },
  {
   "cell_type": "code",
   "execution_count": 25,
   "metadata": {
    "id": "SUlmabUieUk6"
   },
   "outputs": [],
   "source": [
    "shopping = {'orange': 3, 'clementine': 20, 'lemon':2}"
   ]
  },
  {
   "cell_type": "markdown",
   "metadata": {},
   "source": [
    "\n",
    "<h2><span style='color:red'>II.2. <code>While</code> Loops: </span></h2>\n",
    "\n",
    "A <code>while</code> loop iterates until some condition is met. <br>\n",
    "The argument of the while loop is evaluated as a boolean statement, and the loop is executed until the statement evaluates to <code>False</code>.<br> For instance:"
   ]
  },
  {
   "cell_type": "code",
   "execution_count": 335,
   "metadata": {
    "scrolled": false
   },
   "outputs": [
    {
     "name": "stdout",
     "output_type": "stream",
     "text": [
      "0 1 2 3 4 5 6 7 8 9 "
     ]
    }
   ],
   "source": [
    "i = 0\n",
    "while i < 10:\n",
    "    print(i, end=' ')\n",
    "    i += 1"
   ]
  },
  {
   "cell_type": "markdown",
   "metadata": {
    "id": "vC1-_Ot2eUk6"
   },
   "source": [
    "<h2><span style='color:red'>II.3. List, Set and Dictionary Comprehension </span></h2>"
   ]
  },
  {
   "cell_type": "code",
   "execution_count": null,
   "metadata": {
    "id": "7CnmsdzReUk6"
   },
   "outputs": [],
   "source": [
    "[i for i in range(20) if i % 3 > 0]"
   ]
  },
  {
   "cell_type": "code",
   "execution_count": null,
   "metadata": {
    "id": "i1whSzvSeUk6"
   },
   "outputs": [],
   "source": [
    "{n**2 for n in range(12)}"
   ]
  },
  {
   "cell_type": "code",
   "execution_count": null,
   "metadata": {
    "id": "ASVZfwIueUk7"
   },
   "outputs": [],
   "source": [
    "{n:n**3 for n in range(6)}"
   ]
  },
  {
   "cell_type": "markdown",
   "metadata": {
    "id": "mN_L5vf-eUk7"
   },
   "source": [
    "**<span style='color:red'>Q12.</span> Can you write code, using list comprehension, to generate the following output? <code>[(0, 0), (0, 1), (0, 2), (0, 3), (1, 0), (1, 1), (1, 2), (1, 3)]</code>**<br>\n",
    "**Can you write the same code using two loops?**"
   ]
  },
  {
   "cell_type": "code",
   "execution_count": null,
   "metadata": {
    "id": "iAFhxRrJeUk7"
   },
   "outputs": [],
   "source": []
  },
  {
   "cell_type": "code",
   "execution_count": null,
   "metadata": {},
   "outputs": [],
   "source": []
  },
  {
   "cell_type": "markdown",
   "metadata": {
    "id": "MwhT146eeUk7"
   },
   "source": [
    "<h2><center> <span style='color:red'> III - Functions </span> </center></h2>\n",
    "\n",
    "Functions are a way of creating more readable and reusable code. To create functions we will use the <code>def</code> statement. Below you can check a function implementing the first <code>N</code> values of the well-know [Fibonacci sequence](https://en.wikipedia.org/wiki/Fibonacci_number)."
   ]
  },
  {
   "cell_type": "code",
   "execution_count": 339,
   "metadata": {
    "id": "terNFzJCeUk7"
   },
   "outputs": [
    {
     "data": {
      "text/plain": [
       "[1, 1, 2, 3, 5, 8, 13, 21, 34, 55]"
      ]
     },
     "execution_count": 339,
     "metadata": {},
     "output_type": "execute_result"
    }
   ],
   "source": [
    "def fibonacci(N):\n",
    "    L = []\n",
    "    a, b = 0, 1\n",
    "    while len(L) < N:\n",
    "        a, b = b, a + b\n",
    "        L.append(a)\n",
    "    return L\n",
    "\n",
    "fibonacci(10)"
   ]
  },
  {
   "cell_type": "markdown",
   "metadata": {},
   "source": [
    "**<span style='color:red'>Q13.</span> Can you modify the previous function to return a list of the ratios of two consecutive integers in the Fibonacci series, $F_{n+1}/F_{n}$? Call the function for $N=20$ and compare the results to the golden ratio $\\frac{1+\\sqrt{5}}{2}$.**"
   ]
  },
  {
   "cell_type": "code",
   "execution_count": null,
   "metadata": {},
   "outputs": [],
   "source": []
  },
  {
   "cell_type": "markdown",
   "metadata": {
    "id": "R_Hs9CUheUk7"
   },
   "source": [
    "**<span style='color:blue'>Q14.</span> Can you create a function that takes as argument a string (named <code>word</code>) and a character (named <code>c</code>) and returns a new string with all occurences of <code>c</code> removed?** <br>\n",
    "Remember to use Tab to check the methods available for strings."
   ]
  },
  {
   "cell_type": "code",
   "execution_count": null,
   "metadata": {
    "id": "tku4q6fAeUk7"
   },
   "outputs": [],
   "source": []
  },
  {
   "cell_type": "markdown",
   "metadata": {},
   "source": [
    "<h1><center> <span style='color:red'>Homework assignment:</span><br><br>\n",
    "    Functions, loops, complexity, <br><br> and algorithm behind some useful functions</center></h1>\n",
    "\n",
    "For the homework assignment, please answer the exercises H1 to H5 bellow. Exercises H6 to H8 are optional.\n",
    "\n",
    "<h3> H1. Factorial(n) </h3>\n",
    "\n",
    "1. Write two small codes that calculate $n!$:\n",
    "\n",
    "    a. using a <code>for</code> loop;<br>\n",
    "    b. using a <code>while</code> loop.\n",
    "    \n",
    "Check that the two codes return the same value.\n",
    "\n",
    "2. Write a one line code that returns $n!$ for a chosen value of $n$ using the function <code>prod()</code> of numpy. You must call <code>import numpy</code> at the beginning of your code (if needed, you must first install numpy).\n",
    "\n",
    "\n",
    "In numpy, integer are encoded on 64 bits. Test which is the largest value of $n$ for which you can calculate $n!$ using this code. Compare the corresponding value of $n!$ with the largest integer that can be coded on 64 bits, i.e. $2^{64}-1$. Does this limitation occur in the two previous codes?\n",
    "\n",
    "3. **Notions of complexity:** what is the order of the number of simple operations (+,-,*) that is computed in the first code as a function of $n$?\n"
   ]
  },
  {
   "cell_type": "code",
   "execution_count": null,
   "metadata": {},
   "outputs": [],
   "source": [
    "# value of n:"
   ]
  },
  {
   "cell_type": "code",
   "execution_count": null,
   "metadata": {},
   "outputs": [],
   "source": [
    "# Code for question 1.a:\n",
    "\n",
    "\n",
    "# Complexity as a function of n is:"
   ]
  },
  {
   "cell_type": "code",
   "execution_count": null,
   "metadata": {},
   "outputs": [],
   "source": [
    "# Code for question 1.b:"
   ]
  },
  {
   "cell_type": "code",
   "execution_count": null,
   "metadata": {},
   "outputs": [],
   "source": [
    "# Code for question 2:\n",
    "\n",
    "\n",
    "# The largest value of n! that can be computed is:"
   ]
  },
  {
   "cell_type": "markdown",
   "metadata": {},
   "source": [
    "<h3>H2. n choose k:</h3>\n",
    "\n",
    "1. Write a function that takes as an input two integers, $n$ and $k$, and returns the values of $n$ choose $k$:\n",
    "\n",
    "$$ {n \\choose k} = \\frac{n!}{k!\\,(n-k)!}$$\n",
    "\n",
    "using the recursive formula:\n",
    "\n",
    "$$ {n \\choose k} = {n \\choose k-1} \\frac{n-k+1}{k} $$\n",
    "\n",
    "2. *Notion of complexity*: what is the order of simple operations that this program execute for given values of $n$ and $k$? Can you write a code that reduce the number of operations by using the following property?\n",
    "\n",
    "$$ {n \\choose k} = {n \\choose n-k} $$\n",
    "\n",
    "3. Is this program able to compute ${45 \\choose 10}$? ${45 \\choose 44}$? Why don't we directly apply the first formula, by calculating first $n!$, $k!$ and $(n-k)!$?\n",
    "\n",
    "4. On average it rains 12 days in November, what is the probability that in the next 4 days it rains 0, 1, 2, 3 or 4 times? We assume that the weather for each day is independent of the weather in any other days (even it may not make sense...). If possible, use a single loop to calculate all the results (and not a separate loop to calculate each ${n \\choose k}$). \n",
    "\n",
    "We recall that if an event happens on average with probability $p$, then the probability that this event occurs $k$ times in $n$ trials is given by the binomial law:\n",
    "$$P(k)={n \\choose k} p^k(1-p)^{n-k}$$"
   ]
  },
  {
   "cell_type": "code",
   "execution_count": null,
   "metadata": {},
   "outputs": [],
   "source": [
    "# Code for question 1:\n",
    "\n",
    "# Complexity as a function of K is:"
   ]
  },
  {
   "cell_type": "code",
   "execution_count": null,
   "metadata": {},
   "outputs": [],
   "source": [
    "# Prog for question 2.\n",
    "\n",
    "# Complexity as a function of K is:"
   ]
  },
  {
   "cell_type": "code",
   "execution_count": null,
   "metadata": {},
   "outputs": [],
   "source": [
    "# Answer to question 3:"
   ]
  },
  {
   "cell_type": "code",
   "execution_count": null,
   "metadata": {},
   "outputs": [],
   "source": [
    "# Prog for question 4."
   ]
  },
  {
   "cell_type": "markdown",
   "metadata": {},
   "source": [
    "<h3> H3. Square root </h3>\n",
    "\n",
    "$\\sqrt{A}$ can be obtain as the limit of the following series:\n",
    "$$u_0 = A \\qquad\\qquad u_{n+1} = \\frac{1}{2}(u_n+\\frac{A}{u_n})$$\n",
    "\n",
    "Write the two following function that calculates an approximate value of $\\sqrt{A}$:\n",
    "\n",
    "1. Write a function that takes as an input a maximum number of iteration <code>nmax</code> and returns the <code>nmax</code>-th element of the series, using a <code>for</code> loop.\n",
    "    \n",
    "2. Write a function that takes as an input a small real value $\\epsilon$ and returns the $n$-element of the series such that:\n",
    "    $$|\\frac{u_{n}-u_{n-1}}{u_n}|<\\epsilon$$\n",
    "Note: this can be done using a while loop or a break.\n",
    "    \n",
    "3. For $A=2$ and $\\epsilon=10^{-10}$, how many iterations is the function in question 2 performing?\n",
    "\n",
    "Compare your results with the sqrt function of the math module. Is the result for question 3 identical up the 10-th digits?"
   ]
  },
  {
   "cell_type": "code",
   "execution_count": null,
   "metadata": {},
   "outputs": [],
   "source": [
    "# Answer to question 1:"
   ]
  },
  {
   "cell_type": "code",
   "execution_count": null,
   "metadata": {},
   "outputs": [],
   "source": [
    "# Answer to question 2:"
   ]
  },
  {
   "cell_type": "code",
   "execution_count": null,
   "metadata": {},
   "outputs": [],
   "source": [
    "# Answer to question 3:"
   ]
  },
  {
   "cell_type": "markdown",
   "metadata": {},
   "source": [
    "<h3> H4. Sampling </h3>\n",
    "\n",
    "Sampling is the reduction of a continuous-time signal to a discrete-time signal.\n",
    "We would like to regularly sample a function <code>f(x)</code>.\n",
    "\n",
    "1. Can you write a function <code>Sampling(f, xmin, xmax, n)</code> that returns a list of the values of <code>f(x)</code> for <code>n</code> values of <code>x</code> regularly spaced between <code>xmin</code> and <code>xmax</code> (there should be a point on <code>xmin</code> and on <code>xmax</code>)?\n",
    "<br><br>\n",
    "Try your code with the a function of your choice. Check that you have indeed sampled <code>n</code> points, and that <code>f(xmin)</code> and <code>f(xmax)</code> are both included in the list.\n",
    "\n",
    "\n",
    "2. Can you write down the same function with only 2 lines of code using list comprehension? Remember that you can use <code>range(n)</code>.\n",
    "\n",
    "\n",
    "3. Can you do the same regular sampling using the function <code>linspace()</code> of numpy?"
   ]
  },
  {
   "cell_type": "code",
   "execution_count": null,
   "metadata": {},
   "outputs": [],
   "source": [
    "# Answer to question 1:"
   ]
  },
  {
   "cell_type": "code",
   "execution_count": null,
   "metadata": {},
   "outputs": [],
   "source": [
    "# Answer to question 2:"
   ]
  },
  {
   "cell_type": "code",
   "execution_count": 1,
   "metadata": {},
   "outputs": [],
   "source": [
    "# Answer to question 3:"
   ]
  },
  {
   "cell_type": "markdown",
   "metadata": {},
   "source": [
    "<h3> H5. Numerical differentiation </h3>\n",
    "\n",
    "Consider a function $f(x)$. \n",
    "\n",
    "1. a) A simple approximation of the derivative is:\n",
    "$$f^{\\prime}(x) = \\frac{f(x+\\Delta x) - f(x-\\Delta x)}{2\\Delta x}$$\n",
    "\n",
    "Write a function that takes as argument a function <code>f</code>, a value <code>x0</code> and a value of the variation <code>Dx</code>, and returns an aproximate value of the derivative <code>f'</code> in <code>x0</code> obtained with the above formula.\n",
    "\n",
    "1. b) Test your code with a function $f(x)$ of your choice. For instance you can take the function arctangent, whose derivative is $\\frac{1}{1+x^2}$.\n",
    "\n",
    "\n",
    "2. a) A higher order approximation of the derivative in $x$ is given by the following formula:\n",
    "$$f^{\\prime}(x) = \\frac{1}{12 \\Delta x} \\big(f(x-2\\Delta x) - 8 f(x-\\Delta x)+ 8 f(x+\\Delta x) - f(x+2\\Delta x)\\big)$$\n",
    "\n",
    "Write a function that takes as argument a function <code>f</code>, a value <code>x0</code> and a value of the variation <code>Dx</code>, and returns an aproximate value of the derivative in <code>x0</code> obtained with the above formula.\n",
    "\n",
    "2. b) Test your code with the same function $f(x)$ that you used for questioins 1.b.\n",
    "\n",
    "\n",
    "3. Test the precision of both formula by comparing the results of 1.a and 2.a with the known derivative (for instance  $\\frac{1}{1+x^2}$ if you used the function arctangent) for varying values of <code>Dx</code> (for instance from <code>1e-1</code> to <code>1e-5</code>).<br>\n",
    "Display your results in a table, with in the first column <code>Dx</code>, in the second column your values for the function in 1.a, and in the third column your values for the function in 1.b. To display your result in a nice column format, you can use Pandas (see instruction below)."
   ]
  },
  {
   "cell_type": "code",
   "execution_count": null,
   "metadata": {},
   "outputs": [],
   "source": [
    "## Question 1a:"
   ]
  },
  {
   "cell_type": "code",
   "execution_count": null,
   "metadata": {},
   "outputs": [],
   "source": [
    "## Question 1b:"
   ]
  },
  {
   "cell_type": "code",
   "execution_count": null,
   "metadata": {},
   "outputs": [],
   "source": [
    "## Question 2a:"
   ]
  },
  {
   "cell_type": "code",
   "execution_count": null,
   "metadata": {},
   "outputs": [],
   "source": [
    "## Question 2b:"
   ]
  },
  {
   "cell_type": "markdown",
   "metadata": {},
   "source": [
    "**Using <code>Pandas.DataFrame()</code> for question3:** To display data in a nice table format in Python, you can use the function <code>Pandas.DataFrame()</code> of the module Pandas. \n",
    "\n",
    "You can install Panda by running <code>pip install panda</code> in your terminal (or <code>python3 -m pip install panda</code> in case you have several versions of Python installed on your laptop).\n",
    "\n",
    "Then use the Pandas.DataFrame() function to print data in table format as in the following example:"
   ]
  },
  {
   "cell_type": "code",
   "execution_count": 1,
   "metadata": {},
   "outputs": [
    {
     "name": "stdout",
     "output_type": "stream",
     "text": [
      "   Name  Age  Percent\n",
      "0  Mark   12       95\n",
      "1   Jay   11       88\n",
      "2  Jack   14       90\n"
     ]
    }
   ],
   "source": [
    "import pandas as pd\n",
    "\n",
    "d = [ [\"Mark\", 12, 95],\n",
    "     [\"Jay\", 11, 88],\n",
    "     [\"Jack\", 14, 90]]\n",
    "\n",
    "df = pd.DataFrame(d, columns = ['Name','Age','Percent'])\n",
    "print(df)"
   ]
  },
  {
   "cell_type": "code",
   "execution_count": 8,
   "metadata": {},
   "outputs": [
    {
     "name": "stdout",
     "output_type": "stream",
     "text": [
      "Mark               [12, 95]\n",
      "Jay                [11, 88]\n",
      "Jack               [14, 90]\n",
      "Goal_satisfied    [Yes, No]\n",
      "dtype: object\n"
     ]
    }
   ],
   "source": [
    "people_dict = {'Mark': [12, 95],\n",
    "          'Jay': [11,88],\n",
    "          'Jack':   [14, 90],\n",
    "          'Goal_satisfied':['Yes','No']}\n",
    "\n",
    "people_df = pd.Series(people_dict)\n",
    "print(people_df)"
   ]
  },
  {
   "cell_type": "code",
   "execution_count": 10,
   "metadata": {},
   "outputs": [
    {
     "data": {
      "text/plain": [
       "[12, 95]"
      ]
     },
     "execution_count": 10,
     "metadata": {},
     "output_type": "execute_result"
    }
   ],
   "source": [
    "people_df['Mark']"
   ]
  },
  {
   "cell_type": "code",
   "execution_count": 7,
   "metadata": {},
   "outputs": [],
   "source": [
    "## Question 3:"
   ]
  },
  {
   "cell_type": "markdown",
   "metadata": {},
   "source": [
    "<h1><center> <span style='color:red'>Optional Exercises:</span></center></h1>\n"
   ]
  },
  {
   "cell_type": "markdown",
   "metadata": {},
   "source": [
    "<h3> H6. Linear interpolation </h3>\n",
    "\n",
    "Assume that we know a function $f(x)$ at $n$ position $x_i$. The values of $x_i$ and the corresponding values of $y_i=f(x_i)$ are given in two lists of $n$ elements each.\n",
    "\n",
    "1. Write a function that takes as an input these two lists and a value of $x$ between $x_0$ and $x_{n-1}$, and that returns the value of the $f(x)$ obtained by linear interpolation. In other words, the function should find the element $x_i$ such that $x_i<x<x_{i+1}$, and then compute an approximate value of $f(x)$ by linear interpolation between the values $f(x_i)$ in $x_i$ and the value $f(x_{i+1})$ in $x_{i+1}$.<br><br>\n",
    "The function must also return an error if the user is asking for a value of $x$ that is not within the interval defined by $[x_0, x_{n-1}]$.\n",
    "Test that your function properly works for the two limit values: $x=x_0$ and $x=x_{n-1}$.<br><br>\n",
    "\n",
    "2. Test you code on a chosen function with a list of $y_i$ obtained exo 4. You can play around with the number of steps $n$ and see how this is changing the precision of your estimate for $f(x)$."
   ]
  },
  {
   "cell_type": "code",
   "execution_count": null,
   "metadata": {},
   "outputs": [],
   "source": [
    "# Answer to question 1:"
   ]
  },
  {
   "cell_type": "code",
   "execution_count": null,
   "metadata": {},
   "outputs": [],
   "source": [
    "# Answer to question 2: Test"
   ]
  },
  {
   "cell_type": "markdown",
   "metadata": {},
   "source": [
    "<h3> H7. Numerical Integration and Cumulative distribution </h3>\n",
    "\n",
    "1. Write a function that takes arguments $x$ and $n$ and returns the value of the following integral\n",
    "$$ \\frac{1}{\\sqrt{2\\pi}}\\int_0^x \\exp\\Big(-\\frac{t^2}{2}\\Big)\\, {\\rm d}t $$\n",
    "computed with the rectangle rule:\n",
    "$$ \\int_a^b f(x)\\, {\\rm d}x \\simeq h \\,\\sum_{i=0}^{n-1} \\,f\\Big(a + \\Big(i+\\frac{1}{2}\\Big)\\,h\\Big) $$\n",
    "where $n$ is the number of divisions of the interval $[a,b]$ (or number of rectangles), and $h=(b-a)/n$ is the width of the rectangles.\n",
    "\n",
    "\n",
    "2. Add a function that automatically adjusts the number $n$ of steps: <br>\n",
    "this function take as an input $x$ and a real number $\\epsilon$; it then starts from a chosen small value of $n$ and double the value of $n$ while the relative variation of the value of the integral increases by more than $\\epsilon$ when going from $n$ to $2n$.<br>\n",
    "The function then returns both the final values of the calculated integral and of the corresponding $n$.\n",
    "\n",
    "\n",
    "3. Knowing that\n",
    "$$ \\frac{1}{\\sqrt{2\\pi}}\\int_{-\\infty}^{+\\infty} \\exp\\Big(-\\frac{t^2}{2}\\Big)\\, {\\rm d}t = 1 $$<br>\n",
    "modify the previous function to return the value of the following integral:\n",
    "\n",
    "$$ F(x)=\\frac{1}{\\sqrt{2\\pi}}\\int_{-\\infty}^{x} \\exp\\Big(-\\frac{t^2}{2}\\Big)\\, {\\rm d}t $$\n",
    "\n",
    "\n",
    "4. This function is the cumulative function of the centered and rescaled gaussian distribution, which can also be computed analytically and is equal to:<br><br>\n",
    "$$ F(x)=\\frac{1}{2}\\Big[1+{\\rm erf}\\Big(\\frac{x}{\\sqrt{2}}\\Big)\\Big] $$\n",
    "where ${\\rm erf}(x)$ is the error function, which can be found in the math module and called as <code>math.erf(x)</code>. Using this result, check that the code you wrote for question 3 returns the correct value."
   ]
  },
  {
   "cell_type": "code",
   "execution_count": null,
   "metadata": {},
   "outputs": [],
   "source": [
    "# Answer to question 1:\n",
    "\n",
    "\n",
    "\n",
    "# Test function of question 1:\n",
    "\n"
   ]
  },
  {
   "cell_type": "code",
   "execution_count": null,
   "metadata": {},
   "outputs": [],
   "source": [
    "# Answer to question 2:\n",
    "\n",
    "\n",
    "# Test:\n"
   ]
  },
  {
   "cell_type": "markdown",
   "metadata": {},
   "source": [
    "**Answer to question 3:**  (Explain how you do here)"
   ]
  },
  {
   "cell_type": "code",
   "execution_count": null,
   "metadata": {},
   "outputs": [],
   "source": [
    "# Answer to question 3:"
   ]
  },
  {
   "cell_type": "code",
   "execution_count": null,
   "metadata": {},
   "outputs": [],
   "source": [
    "# Answer to question 4:"
   ]
  },
  {
   "cell_type": "markdown",
   "metadata": {},
   "source": [
    "<h3> H8. List sorting and complexity </h3>\n",
    "\n",
    "Read about common sorting algorithms [*here*](https://www.geeksforgeeks.org/sorting-algorithms/):\n",
    "1. Insertion Sort;\n",
    "2. Bubble Sort;\n",
    "3. QuickSort;\n",
    "\n",
    "Do you understand how they work?\n",
    "\n",
    "What is the difference between average complexity and worst case complexity?\n",
    "\n",
    "What is the algorithm behind the function sort() for list in python? (see example below) What is its average complexity? its worst complexity?"
   ]
  },
  {
   "cell_type": "code",
   "execution_count": 3,
   "metadata": {},
   "outputs": [
    {
     "name": "stdout",
     "output_type": "stream",
     "text": [
      "[3, 4, 5, 6, 11, 12]\n"
     ]
    }
   ],
   "source": [
    "numbers = [4, 11, 6, 12, 3, 5]\n",
    "numbers.sort()\n",
    "print(numbers)"
   ]
  },
  {
   "cell_type": "code",
   "execution_count": null,
   "metadata": {},
   "outputs": [],
   "source": []
  }
 ],
 "metadata": {
  "colab": {
   "name": "Lab1.ipynb",
   "provenance": []
  },
  "kernelspec": {
   "display_name": "Python 3 (ipykernel)",
   "language": "python",
   "name": "python3"
  },
  "language_info": {
   "codemirror_mode": {
    "name": "ipython",
    "version": 3
   },
   "file_extension": ".py",
   "mimetype": "text/x-python",
   "name": "python",
   "nbconvert_exporter": "python",
   "pygments_lexer": "ipython3",
   "version": "3.10.0"
  }
 },
 "nbformat": 4,
 "nbformat_minor": 1
}
