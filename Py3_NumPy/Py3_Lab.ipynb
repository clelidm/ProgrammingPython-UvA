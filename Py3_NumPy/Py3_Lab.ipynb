{
 "cells": [
  {
   "cell_type": "markdown",
   "id": "bd62b522",
   "metadata": {},
   "source": [
    "<h1><center> Programming in Python </center></h1>\n",
    "\n",
    "<h1><center> <span style='color:red'>Lab 3: Working with Numpy </span></center></h1>\n",
    "\n",
    "As for the previous lab: try to understand the code and anticipate the output before you run the cell. Did it confirm your guess? Great! If not, try to understand why, and, if needed, ask questions to your colleagues, or during the lab session.\n",
    "\n",
    "Reminder for Jupyter notebook: Check [here](https://www.markdownguide.org/basic-syntax/) for more details on the Markdown syntax. You can change the cell type by selecting Cell > Cell Type.\n",
    "\n",
    "\n",
    "\n",
    "This first part of this course is based on the book [*Python Data Science Handbook*](https://jakevdp.github.io/PythonDataScienceHandbook/), by Jake VanderPlas, which is available for free in its online version."
   ]
  },
  {
   "cell_type": "markdown",
   "id": "d1bf9619",
   "metadata": {},
   "source": [
    "<h2><center> <span style='color:red'>Last week's exercises </span></center></h2>"
   ]
  },
  {
   "cell_type": "code",
   "execution_count": null,
   "id": "e6e97c70",
   "metadata": {},
   "outputs": [],
   "source": [
    "# factorial using Python loop:\n",
    "\n",
    "def factFn(n):\n",
    "    fact=1\n",
    "    for i in range(1,n+1):\n",
    "        fact*=i\n",
    "    return fact"
   ]
  },
  {
   "cell_type": "code",
   "execution_count": null,
   "id": "db168708",
   "metadata": {},
   "outputs": [],
   "source": [
    "factFn(15)"
   ]
  },
  {
   "cell_type": "code",
   "execution_count": null,
   "id": "13f92730",
   "metadata": {},
   "outputs": [],
   "source": [
    "n=20\n",
    "print(\"\\n 20!=\", factFn(n))\n",
    "print(\" 20!=\", np.prod(np.arange(1,n+1, dtype='int64')))\n",
    "print(\"2^63=\", 2**63)\n",
    "\n",
    "n=21\n",
    "print(\"\\n 21!=\", factFn(n))\n",
    "print(\" 21!=\", np.prod(np.arange(1,n+1)))\n",
    "print(\"2^63=\", 2**63)"
   ]
  },
  {
   "cell_type": "code",
   "execution_count": null,
   "id": "3bb311d8",
   "metadata": {},
   "outputs": [],
   "source": [
    "import numpy as np\n",
    "\n",
    "n=12\n",
    "print(\"\\n 12!=\", factFn(n))\n",
    "print(\" 12!=\", np.prod(np.arange(1,n+1, dtype='int32')))\n",
    "print(\"2^31=\", 2**31)\n",
    "\n",
    "n=13\n",
    "print(\"\\n 13!=\", factFn(n))\n",
    "print(\" 13!=\", np.prod(np.arange(1,n+1, dtype='int32'),dtype='int32'))\n",
    "print(\"2^31=\", 2**31)"
   ]
  },
  {
   "cell_type": "code",
   "execution_count": null,
   "id": "553c2c7d",
   "metadata": {},
   "outputs": [],
   "source": [
    "n=20\n",
    "print(\"\\n 20!=\", factFn(n))\n",
    "print(\" 20!=\", np.prod(np.arange(1,n+1, dtype='int64')))\n",
    "print(\"2^63=\", 2**63)\n",
    "\n",
    "n=21\n",
    "print(\"\\n 21!=\", factFn(n))\n",
    "print(\" 21!=\", np.prod(np.arange(1,n+1, dtype='int64'),dtype='int64'))\n",
    "print(\"2^63=\", 2**63)"
   ]
  },
  {
   "cell_type": "markdown",
   "id": "bea07c52",
   "metadata": {},
   "source": [
    "\n",
    "<h2><center> <span style='color:red'>0 - Useful tools </span></center></h2>\n",
    "<h2><span style='color:red'>0.1. Scientific notation and rounding number </span></center></h2>\n",
    "\n",
    "<h3>Rounding with <code>round()</code>:</h3>\n",
    "As we saw in the first lecture, you can use the function <code>round()</code> to round a float number to a certain number of digits. However, this doesn't allow you round the number to fixed number of significant digits (as you would get with a scientific notation). See example below:"
   ]
  },
  {
   "cell_type": "code",
   "execution_count": 1,
   "id": "d0a60b69",
   "metadata": {},
   "outputs": [
    {
     "data": {
      "text/plain": [
       "0.01"
      ]
     },
     "execution_count": 1,
     "metadata": {},
     "output_type": "execute_result"
    }
   ],
   "source": [
    "x = 0.0079873129957356789\n",
    "round(x, 2)"
   ]
  },
  {
   "cell_type": "markdown",
   "id": "7a07012f",
   "metadata": {},
   "source": [
    "<h3>Scientific notation and rounding with <code>format()</code>:</h3>\n",
    "To print a float number in scientific notation and round it to a chosen number of significant digits, you can use the function <code>format()</code>. See example below:"
   ]
  },
  {
   "cell_type": "code",
   "execution_count": null,
   "id": "1f76724b",
   "metadata": {},
   "outputs": [],
   "source": [
    "x = 0.0079873129957356789\n",
    "print(format(x,'.2E'))\n",
    "print(format(x,'.3E'))"
   ]
  },
  {
   "cell_type": "markdown",
   "id": "c9f462f1",
   "metadata": {},
   "source": [
    "Note that the function <code>format()</code> returns a string. If needed, this latter can be re-converted to a float number using the function <code>float()</code>:"
   ]
  },
  {
   "cell_type": "code",
   "execution_count": null,
   "id": "ddfc348d",
   "metadata": {},
   "outputs": [],
   "source": [
    "type(format(x,'.2E'))"
   ]
  },
  {
   "cell_type": "code",
   "execution_count": null,
   "id": "fce27310",
   "metadata": {},
   "outputs": [],
   "source": [
    "y=float(format(x,'.2E'))\n",
    "print(y)"
   ]
  },
  {
   "cell_type": "markdown",
   "id": "546edd1d",
   "metadata": {},
   "source": [
    "<h2><span style='color:red'>0.2. Scipy Constants Library </span></center></h2>\n",
    "\n",
    "As SciPy is more focused on scientific implementations, it provides many built-in scientific constants, which can be found in the <code>constants</code> library: see [Scipy documentation](https://docs.scipy.org/doc/scipy/reference/constants.html) and this [online course](https://www.w3schools.com/python/scipy/scipy_constants.php)."
   ]
  },
  {
   "cell_type": "code",
   "execution_count": 36,
   "id": "d62104d3",
   "metadata": {},
   "outputs": [],
   "source": [
    "from scipy import constants"
   ]
  },
  {
   "cell_type": "code",
   "execution_count": 40,
   "id": "00073dce",
   "metadata": {},
   "outputs": [
    {
     "data": {
      "text/plain": [
       "1.618033988749895"
      ]
     },
     "execution_count": 40,
     "metadata": {},
     "output_type": "execute_result"
    }
   ],
   "source": [
    "# Example of mathematical constant: the golden ratio:\n",
    "constants.golden_ratio"
   ]
  },
  {
   "cell_type": "code",
   "execution_count": 41,
   "id": "17f1cf47",
   "metadata": {},
   "outputs": [
    {
     "data": {
      "text/plain": [
       "299792458.0"
      ]
     },
     "execution_count": 41,
     "metadata": {},
     "output_type": "execute_result"
    }
   ],
   "source": [
    "# Speed of light in vacuum in meters:\n",
    "constants.speed_of_light"
   ]
  },
  {
   "cell_type": "code",
   "execution_count": 42,
   "id": "81b49405",
   "metadata": {},
   "outputs": [
    {
     "data": {
      "text/plain": [
       "1.0545718176461565e-34"
      ]
     },
     "execution_count": 42,
     "metadata": {},
     "output_type": "execute_result"
    }
   ],
   "source": [
    "# hbar in SI units:\n",
    "constants.hbar"
   ]
  },
  {
   "cell_type": "markdown",
   "id": "a52bd77c",
   "metadata": {},
   "source": [
    "<h2><span style='color:red'>0.3. Displaying table using <code>pandas.DataFrame()</code> </span></center></h2>\n",
    "\n",
    "This is just a recall from lab2.\n",
    "\n",
    "To display data in a nice table format in Python, you can use the function <code>Pandas.DataFrame()</code> of the module Pandas. \n",
    "\n",
    "You can install Panda by running <code>pip install panda</code> in your terminal (or <code>python3 -m pip install panda</code> in case you have several versions of Python installed on your laptop).\n",
    "\n",
    "Then use the <code>Pandas.DataFrame()</code> function to print data in table format as in the following example:"
   ]
  },
  {
   "cell_type": "code",
   "execution_count": null,
   "id": "d5876c5b",
   "metadata": {
    "scrolled": false
   },
   "outputs": [],
   "source": [
    "import pandas as pd\n",
    "\n",
    "d = [ [\"Mark\", 12, 95],\n",
    "     [\"Jay\", 11, 88],\n",
    "     [\"Jack\", 14, 90]]\n",
    "\n",
    "df = pd.DataFrame(d, columns = ['Name','Age','Percent'])\n",
    "print(df)"
   ]
  },
  {
   "cell_type": "markdown",
   "id": "3939e1f4",
   "metadata": {},
   "source": [
    "<h2><center> <span style='color:red'> I - NumPy arrays </span></center></h2>\n",
    "\n",
    "We have seen previously that a list in Python can store variables referring to any type of object. This brings flexibility but introduces some computational inefficiency. Each item in the list needs to be a complete object and operations within a list always need to check the type of objects they are applied to. \n",
    "\n",
    "**NumPy:** provides an efficient way to store and manipulate multi-dimensional arrays. This is achieved as <span style='color:red'>**numpy arrays in python are fixed-type**</span>: only numerical values, from the same type, can be stored in one NumPy array (*ndarray*). <span style='color:red'>We lose flexibility but gain efficiency in storing and manipulating data</span>. A lot of projects in data science involve manipulating numerical values, so it is convinient to master a library intirely dedicated to such data type. Some further advantages of NumPy are:\n",
    "\n",
    "* It provides an *ndarray* structure, which allows efficient storage and manipulation of vectors, matrices, and higher-dimensional datasets.\n",
    "* It provides a readable and efficient syntax for operating on this data, from simple element-wise arithmetic to more complicated linear algebraic operations.\n",
    "\n",
    "To use the functionality provided by the NumPy library we need first to import it. The line <code>import numpy as np</code> allows to import NumPy and to create a shorter alias for its namespace. \n",
    "By convention NumPy is imported under the alias <code>np</code>. \n",
    "We can then use the NumPy types and methods using the prefix <code>np.</code>\n"
   ]
  },
  {
   "cell_type": "code",
   "execution_count": 2,
   "id": "9045c846",
   "metadata": {},
   "outputs": [],
   "source": [
    "import numpy as np"
   ]
  },
  {
   "cell_type": "markdown",
   "id": "a491e288",
   "metadata": {},
   "source": [
    "<h2><span style='color:red'>I.1. Creating a NumPy Array </span></center></h2>\n",
    "\n",
    "<h3>a. One-dimensional arrays</h3>\n",
    "\n",
    "Numpy arrays look a lot like python lists; the important difference being the fixed-type. Check the following examples:"
   ]
  },
  {
   "cell_type": "code",
   "execution_count": null,
   "id": "abebc1e4",
   "metadata": {},
   "outputs": [],
   "source": [
    "# You can create a NumPy array from a Python list of numbers:\n",
    "list_of_numbers = [10,11,12,13,14,15,16,17,18]\n",
    "\n",
    "x = np.array(list_of_numbers)\n",
    "x"
   ]
  },
  {
   "cell_type": "code",
   "execution_count": null,
   "id": "b61b0bf6",
   "metadata": {},
   "outputs": [],
   "source": [
    "# numpy has a 'arange()' function that works very similarly to 'range()' in python:\n",
    "\n",
    "x=np.arange(1, 10)\n",
    "x"
   ]
  },
  {
   "cell_type": "markdown",
   "id": "ddb1cbcb",
   "metadata": {},
   "source": [
    "**<span style='color:red'>Q1.</span> Can you make a numpy array that contains the even numbers between 10 and 20 included, without using a python loop?**"
   ]
  },
  {
   "cell_type": "code",
   "execution_count": null,
   "id": "8fcbf7fb",
   "metadata": {},
   "outputs": [],
   "source": [
    "# Solution to Q1:"
   ]
  },
  {
   "cell_type": "markdown",
   "id": "2eed9944",
   "metadata": {},
   "source": [
    "<h3>b. Multi-dimensional arrays:</h3>\n",
    "\n",
    "Unlike Python lists (which are limited to one dimension), NumPy arrays can be multi-dimensional. \n",
    "\n",
    "Multi-dimensional arrays can be defined from nested lists (ex. a list of lists of numbers), or obtained from reshaping a 1-dimensional array. Check the following examples:"
   ]
  },
  {
   "cell_type": "code",
   "execution_count": null,
   "id": "918c354c",
   "metadata": {},
   "outputs": [],
   "source": [
    "# Create a NumPy array from a Python list of list of numbers.\n",
    "# !! Important: each internal list must have the same size !!\n",
    "\n",
    "list_of_list_of_3numbers = [[1,2,3],[3,4,6]]\n",
    "x2=np.array(list_of_list_of_3numbers)\n",
    "x2"
   ]
  },
  {
   "cell_type": "code",
   "execution_count": null,
   "id": "de65ec17",
   "metadata": {},
   "outputs": [],
   "source": [
    "# Reshape a 1-dimensional array of 9 elements into a 3x3 array:\n",
    "\n",
    "y=np.arange(1, 10)\n",
    "y.reshape((3, 3))"
   ]
  },
  {
   "cell_type": "markdown",
   "id": "44b6f5d1",
   "metadata": {},
   "source": [
    "**<span style='color:red'>Q2.</span> Can you create the following numpy array with a one-line code using nested lists?<br> Can you try it using exactly 1 or 2 calls of <code>range()</code> with list comprehensions?** <br>\n",
    "\n",
    "  <code>array([[ 0,  1,  2,  3],\n",
    "        [10, 11, 12, 13],\n",
    "        [20, 21, 22, 23],\n",
    "        [30, 31, 32, 33],\n",
    "        [40, 41, 42, 43]])</code>  "
   ]
  },
  {
   "cell_type": "code",
   "execution_count": null,
   "id": "2780543f",
   "metadata": {},
   "outputs": [],
   "source": [
    "# Solution to Q2:\n",
    "# using nested lists to obtain a multi-dimensional array:"
   ]
  },
  {
   "cell_type": "code",
   "execution_count": null,
   "id": "fc46b7da",
   "metadata": {},
   "outputs": [],
   "source": [
    "# This also works:"
   ]
  },
  {
   "cell_type": "code",
   "execution_count": null,
   "id": "941b394b",
   "metadata": {},
   "outputs": [],
   "source": [
    "# This also works:"
   ]
  },
  {
   "cell_type": "markdown",
   "id": "f1335fbb",
   "metadata": {},
   "source": [
    "<h2><span style='color:red'>I.2. Arrays: Methods and Attributes:</span></h2>"
   ]
  },
  {
   "cell_type": "markdown",
   "id": "9f7bcc01",
   "metadata": {},
   "source": [
    "<h3>a. Array attributes:</h3>\n",
    "\n",
    "Each array has attributes <code>ndim</code> (the number of dimensions), <code>shape</code> (the size of each dimension), and <code>size</code> (the total size of the array). Another useful attribute is  <code>dtype</code>, which is the data type of the array. For ex:"
   ]
  },
  {
   "cell_type": "code",
   "execution_count": null,
   "id": "1f25ff42",
   "metadata": {},
   "outputs": [],
   "source": [
    "x=np.array([[1,2,3],[3,4,6]])\n",
    "print(x, '\\n')\n",
    "\n",
    "print(\"ndim: \", x.ndim)\n",
    "print(\"shape:\", x.shape)\n",
    "print(\"size: \", x.size)\n",
    "print(\"dtype: \", x.dtype)"
   ]
  },
  {
   "cell_type": "markdown",
   "id": "40853458",
   "metadata": {},
   "source": [
    "**<span style='color:red'>Ex1.</span>** Remember that unlike Python lists, NumPy is constrained to arrays that all contain the same type. If types do not match, NumPy will upcast if possible. <br> For example:"
   ]
  },
  {
   "cell_type": "code",
   "execution_count": null,
   "id": "43c39905",
   "metadata": {},
   "outputs": [],
   "source": [
    "# Array of integers:\n",
    "x1=np.array([1,3,7])\n",
    "x1.dtype"
   ]
  },
  {
   "cell_type": "code",
   "execution_count": null,
   "id": "d6189a7e",
   "metadata": {},
   "outputs": [],
   "source": [
    "# Here, integers are up-cast to floating point:\n",
    "x2=np.array([3.13, 4, 2, 3])\n",
    "x2.dtype"
   ]
  },
  {
   "cell_type": "code",
   "execution_count": null,
   "id": "37353aae",
   "metadata": {},
   "outputs": [],
   "source": [
    "# Here, np.array up-cast everything to complex type:\n",
    "x3=np.array([3.13, 4, 2j, 3])\n",
    "x3.dtype"
   ]
  },
  {
   "cell_type": "markdown",
   "id": "630b42de",
   "metadata": {},
   "source": [
    "It is possible to explicitly set the data type of an array with the keyword <code>dtype</code>. For example:"
   ]
  },
  {
   "cell_type": "code",
   "execution_count": null,
   "id": "2b58aeec",
   "metadata": {},
   "outputs": [],
   "source": [
    "np.array([1, 2, 3, 4], dtype='float32')"
   ]
  },
  {
   "cell_type": "markdown",
   "id": "a14712a4",
   "metadata": {},
   "source": [
    "**<span style='color:blue'>Q3.</span> What information is returned by each of the following calls?**"
   ]
  },
  {
   "cell_type": "code",
   "execution_count": null,
   "id": "8a5e79a7",
   "metadata": {},
   "outputs": [],
   "source": [
    "y=np.array([[1,2],[3,4],[3,6]])\n",
    "print(y.ndim)\n",
    "print(y.shape)\n",
    "print(y.size)\n",
    "print(len(y))"
   ]
  },
  {
   "cell_type": "markdown",
   "id": "24ac270f",
   "metadata": {},
   "source": [
    "<h3>b. Useful methods:</h3>\n",
    "\n",
    "**<span style='color:red'>Q4.</span> Check the following examples: what are the output?**"
   ]
  },
  {
   "cell_type": "code",
   "execution_count": null,
   "id": "79c21b3b",
   "metadata": {},
   "outputs": [],
   "source": [
    "np.zeros((3,3))"
   ]
  },
  {
   "cell_type": "code",
   "execution_count": null,
   "id": "5644c740",
   "metadata": {},
   "outputs": [],
   "source": [
    "np.ones((3,5), dtype=int)"
   ]
  },
  {
   "cell_type": "code",
   "execution_count": null,
   "id": "5aeb2d7f",
   "metadata": {},
   "outputs": [],
   "source": [
    "np.full((3,5),3)"
   ]
  },
  {
   "cell_type": "code",
   "execution_count": null,
   "id": "c321e7a4",
   "metadata": {},
   "outputs": [],
   "source": [
    "np.linspace(0,1.5,5)"
   ]
  },
  {
   "cell_type": "code",
   "execution_count": null,
   "id": "8e972b31",
   "metadata": {},
   "outputs": [],
   "source": [
    "np.eye(3)"
   ]
  },
  {
   "cell_type": "markdown",
   "id": "8ee9791c",
   "metadata": {},
   "source": [
    "<h2><span style='color:red'>I.3. Indexing and Slicing:</span></h2>\n",
    "\n",
    "<h3>a. Indexing</h3>\n",
    "\n",
    "Indexing in NumPy is very similar to Python's standard list indexing.\n",
    "\n",
    "In a one-dimensional array, the i-th value (counting from zero) can be accessed by specifying the index in square brackets, just as with Python lists. \n",
    "\n",
    "In a multi-dimensional array, items can be accessed using indices separated with a coma."
   ]
  },
  {
   "cell_type": "code",
   "execution_count": null,
   "id": "42c2aa40",
   "metadata": {},
   "outputs": [],
   "source": [
    "x1=np.arange(10)\n",
    "print(x1)\n",
    "\n",
    "# Use square brakets to access the i-th element:\n",
    "x1[3]"
   ]
  },
  {
   "cell_type": "code",
   "execution_count": null,
   "id": "8217fa34",
   "metadata": {},
   "outputs": [],
   "source": [
    "# To index from the end of the array, you can use negative indices:\n",
    "x1[-1]"
   ]
  },
  {
   "cell_type": "code",
   "execution_count": null,
   "id": "bd76c1a3",
   "metadata": {},
   "outputs": [],
   "source": [
    "x2 = np.array([[1,2,3],[3,4,6]])\n",
    "print(x2, '\\n')\n",
    "\n",
    "# For multi-dimensional array, indices are separated by comas:\n",
    "print(x2[0, 0])  # 2d-array works like for matrices\n",
    "\n",
    "print(x2[1, -1]) # You can also use negative indices here"
   ]
  },
  {
   "cell_type": "markdown",
   "id": "9af123f4",
   "metadata": {},
   "source": [
    "**Modifying values in an array:** Values can also be modified using any of the above index notation.\n",
    "Keep in mind that, unlike Python lists, NumPy arrays have a fixed type. This means, for example, that if you attempt to insert a floating-point value to an integer array, the value will be silently truncated. Don't be caught unaware by this behavior!\n",
    "\n",
    "See the following examples:"
   ]
  },
  {
   "cell_type": "code",
   "execution_count": null,
   "id": "f376a6aa",
   "metadata": {},
   "outputs": [],
   "source": [
    "# Values can also be modified using any of the above index notation:\n",
    "x2[0, 0] = 12\n",
    "print(x2, '\\n')\n",
    "\n",
    "# Reminder: numpy array have fixed type, \n",
    "# x2 is of type integer here:\n",
    "\n",
    "x2[0, 0] = 10.34518  # this will be truncated to the integer part!!!\n",
    "print(x2)"
   ]
  },
  {
   "cell_type": "markdown",
   "id": "78c45b19",
   "metadata": {},
   "source": [
    "<h3>b. Slicing</h3>\n",
    "\n",
    "The NumPy slicing syntax follows that of the standard Python list; to access a slice of an array <code>x</code>, use <code>x[start:stop:step]</code>. If any of these are unspecified, the default values are: <code>start=0</code>, <code>stop=size of dimension</code>, <code>step=1</code>. \n",
    "\n",
    "**One-dimensional arrays:** One-dimensional slices work exactly as for list:"
   ]
  },
  {
   "cell_type": "code",
   "execution_count": null,
   "id": "eb044bb8",
   "metadata": {},
   "outputs": [],
   "source": [
    "# For 1-dimensional array, it works exactly as for list:\n",
    "x1=np.arange(10)\n",
    "print(x1)\n",
    "\n",
    "# sub-list of elements from indice 1 to 8 (included:\n",
    "print(x1[1:9])\n",
    "\n",
    "# all elements, reversed\n",
    "print(x1[::-1])  "
   ]
  },
  {
   "cell_type": "markdown",
   "id": "5373ae4d",
   "metadata": {},
   "source": [
    "**Multi-dimensional arrays:** Multi-dimensional slices work in the same way, with multiple slices separated by commas: \n",
    "\n"
   ]
  },
  {
   "cell_type": "code",
   "execution_count": null,
   "id": "93852a38",
   "metadata": {},
   "outputs": [],
   "source": [
    "# Example for a 2d-array:\n",
    "x2=np.array([[12,  5,  2,  4], [ 7,  6,  8,  8], [ 1,  6,  7,  7]])\n",
    "x2"
   ]
  },
  {
   "cell_type": "code",
   "execution_count": null,
   "id": "a6d44243",
   "metadata": {},
   "outputs": [],
   "source": [
    "# keeps only from the previous matrix:\n",
    "#     - the 2 first rows (2 first elements in the first dimension)\n",
    "#     - and the 3 first columns (3 first elements in the second dimension)\n",
    "\n",
    "x2[:2, :3]  # two rows, three columns"
   ]
  },
  {
   "cell_type": "markdown",
   "id": "d9f9f2de",
   "metadata": {},
   "source": [
    "**<span style='color:red'>Q5.</span> Can you perform the slicing of the 2d-array <code>x2</code> described in the following comments?**"
   ]
  },
  {
   "cell_type": "code",
   "execution_count": null,
   "id": "18a1d19b",
   "metadata": {},
   "outputs": [],
   "source": [
    "# print all rows of x2, but every other column:"
   ]
  },
  {
   "cell_type": "code",
   "execution_count": null,
   "id": "387fe4e0",
   "metadata": {},
   "outputs": [],
   "source": [
    "# reversed together the order of the elements in each dimension:"
   ]
  },
  {
   "cell_type": "markdown",
   "id": "aa867495",
   "metadata": {},
   "source": [
    "<h3>c. Access a single row or a single column, by combining Indexing and Slicing</h3>\n",
    "\n",
    "One commonly needed routine is accessing of single rows or columns of an array. This can be done by combining indexing and slicing, using an empty slice marked by a single colon:"
   ]
  },
  {
   "cell_type": "code",
   "execution_count": null,
   "id": "a3b74b38",
   "metadata": {},
   "outputs": [],
   "source": [
    "# first column of x2:\n",
    "print(x2[:, 0])"
   ]
  },
  {
   "cell_type": "code",
   "execution_count": null,
   "id": "8f66800a",
   "metadata": {},
   "outputs": [],
   "source": [
    "# first row of x2:\n",
    "print(x2[0, :]) \n",
    "print(x2[0])   # equivalent more compact notation, only for row access"
   ]
  },
  {
   "cell_type": "markdown",
   "id": "43f69b54",
   "metadata": {},
   "source": [
    "<h2><span style='color:red'>I.4. Copy of an array:</span></h2>\n",
    "\n",
    "<h3>a. Important: elements of an arrays are mutable objects</h3>\n",
    "\n",
    "**<span style='color:red'>Q6.</span> Comment on what happens in the two following examples:**"
   ]
  },
  {
   "cell_type": "code",
   "execution_count": null,
   "id": "d0e5b282",
   "metadata": {},
   "outputs": [],
   "source": [
    "import numpy as np\n",
    "a0=np.ones((3,3), dtype=float)\n",
    "a1=a0\n",
    "a1[1][1]=8\n",
    "print(a0)"
   ]
  },
  {
   "cell_type": "code",
   "execution_count": null,
   "id": "69dab497",
   "metadata": {},
   "outputs": [],
   "source": [
    "a0=np.ones((3,3), dtype=float)\n",
    "a1=np.copy(a0)\n",
    "a1[1][1]=8\n",
    "print(a0)"
   ]
  },
  {
   "cell_type": "markdown",
   "id": "3c35507f",
   "metadata": {},
   "source": [
    "<h3>b. Important: sub-array are not a copy of the array!</h3>\n",
    "\n",
    "One important thing about array slices is that they return views and not copies of the array data. Which means that if you modify a sub-array, you are actually modifying the original array itself!\n",
    "\n",
    "This is one area in which NumPy array slicing differs from Python list slicing: in lists, slices will be copies. \n",
    "\n",
    "This default behavior is actually quite useful: it means that when we work with large datasets, we can access and process pieces of these datasets without the need to copy the underlying data buffer.\n",
    "\n",
    "**<span style='color:red'>Ex2.</span>** For example:"
   ]
  },
  {
   "cell_type": "code",
   "execution_count": null,
   "id": "bf422acb",
   "metadata": {},
   "outputs": [],
   "source": [
    "x2=np.array([[12,  5,  2,  4], [ 7,  6,  8,  8], [ 1,  6,  7,  7]])\n",
    "print(x2)"
   ]
  },
  {
   "cell_type": "code",
   "execution_count": null,
   "id": "0ac1d6d5",
   "metadata": {},
   "outputs": [],
   "source": [
    "# Let's extract a 2×2 subarray from this:\n",
    "x2_sub = x2[:2, :2]\n",
    "print(x2_sub)"
   ]
  },
  {
   "cell_type": "code",
   "execution_count": null,
   "id": "178f6e8c",
   "metadata": {},
   "outputs": [],
   "source": [
    "# Now if we modify this subarray:\n",
    "x2_sub[0, 0] = 99\n",
    "print(x2_sub)"
   ]
  },
  {
   "cell_type": "code",
   "execution_count": null,
   "id": "601c3cab",
   "metadata": {},
   "outputs": [],
   "source": [
    "# the original array is changed! \n",
    "print(x2)"
   ]
  },
  {
   "cell_type": "markdown",
   "id": "e93441b4",
   "metadata": {},
   "source": [
    "<h3>b. Creating copies of arrays</h3>\n",
    "\n",
    "It is sometimes useful to explicitly copy the data within an array or a subarray. This can be done with the <code>copy()</code> method:\n",
    "\n",
    "**<span style='color:red'>Q7.</span> Can you make a copy of the top-left 2x2-sub-array of <code>x2</code> (identical to the sub-array sliced above) using <code>.copy()</code>, then modify the sub-array and check that the original array is left unchanged?**"
   ]
  },
  {
   "cell_type": "code",
   "execution_count": null,
   "id": "4a1f04d5",
   "metadata": {},
   "outputs": [],
   "source": [
    "# Let's copy a 2×2 subarray from x2:"
   ]
  },
  {
   "cell_type": "code",
   "execution_count": null,
   "id": "f3041f0f",
   "metadata": {},
   "outputs": [],
   "source": [
    "# modification of the sub-array:"
   ]
  },
  {
   "cell_type": "code",
   "execution_count": null,
   "id": "d551a85f",
   "metadata": {},
   "outputs": [],
   "source": [
    "# check that the original array is unchanged:"
   ]
  },
  {
   "cell_type": "markdown",
   "id": "bcbc103a",
   "metadata": {},
   "source": [
    "**<span style='color:blue'>Ex 3.</span>** It is also possible to copy element by element an array into another array, or a sub-part of an array into another array. Check the following examples:"
   ]
  },
  {
   "cell_type": "code",
   "execution_count": null,
   "id": "6b2f6926",
   "metadata": {},
   "outputs": [],
   "source": [
    "a=0.5*np.ones(shape=(2,2))\n",
    "b=0.3*np.ones(shape=(2,2))\n",
    "print(\"a =\", a, '\\n\\nb =', b)\n",
    "\n",
    "## Ex1: Copy all the elements of a in b:\n",
    "b[:,:]=a[:,:]\n",
    "print('\\n\\nb =', b, ' --> \\'b\\' is a copy of \\'a\\'')\n",
    "b[0,0]=1\n",
    "print('\\n\\na =', a, '--> \\'a\\' is unchanged \\n\\nb =', b)  ### a remains unchanged"
   ]
  },
  {
   "cell_type": "code",
   "execution_count": null,
   "id": "f2119246",
   "metadata": {},
   "outputs": [],
   "source": [
    "a=0.5*np.ones(shape=(2,2))\n",
    "b=0.3*np.ones(shape=(2,2))\n",
    "print(\"a =\", a, '\\n\\nb =', b)\n",
    "\n",
    "## Ex2: Copy the 2nd columns of a in b:\n",
    "b[:,1]=a[:,1]\n",
    "print('\\n\\nb =', b, ' --> 2nd column of \\'b\\' is a copy of \\'a\\'')\n",
    "b[0,1]=1\n",
    "print('\\n\\na =', a, '\\n\\nb =', b)"
   ]
  },
  {
   "cell_type": "markdown",
   "id": "e281f65e",
   "metadata": {},
   "source": [
    "<h2><center> <span style='color:red'> II - Operations on NumPy arrays </span> </center></h2>\n",
    "\n",
    "<h2><span style='color:red'>II.1. Slowness of loops</span></h2>\n",
    "\n",
    "The reasons why NumPy is so important in the Python data science world, is that it provides an easy and flexible interface to optimized computation with arrays of data.\n",
    "\n",
    "<h3>a. Loops are typically very slow in Python:</h3>\n",
    "\n",
    "Python's default implementation (known as CPython) does some operations very slowly. This is in part due to the dynamic and interpreted nature of the language (the fact that types are flexible). Each time python performs an operation on objects, it first has to check the type of the objects. This can become very constraining when many small operations are being repeated, for instance looping over arrays to operate on each element.\n",
    "\n",
    "**<span style='color:red'>Ex 3.</span> Run the following example: how long does it takes to go through the loop?**"
   ]
  },
  {
   "cell_type": "code",
   "execution_count": null,
   "id": "87a13f7c",
   "metadata": {},
   "outputs": [],
   "source": [
    "import numpy as np\n",
    "\n",
    "# Example of a function that is applied to all the elements of a vector:\n",
    "def reciprocal(x):\n",
    "    x_reciprocal = np.empty(len(x))\n",
    "    for i in range(len(x)):\n",
    "        x_reciprocal[i] = 1.0 / x[i]\n",
    "    return x_reciprocal\n",
    "\n",
    "# Test:\n",
    "np.random.seed(0)\n",
    "x = np.random.randint(1, 10, size=5)\n",
    "reciprocal(x)"
   ]
  },
  {
   "cell_type": "code",
   "execution_count": null,
   "id": "514db8fe",
   "metadata": {},
   "outputs": [],
   "source": [
    "big_array = np.random.randint(1, 100, size=1000000)\n",
    "%timeit reciprocal(big_array)"
   ]
  },
  {
   "cell_type": "markdown",
   "id": "a907fe8a",
   "metadata": {},
   "source": [
    "It takes several seconds to compute these $10^6$ operations and to store the result. Even cell phones have processing speeds measured in Giga-FLOPS (i.e., $10^9$ of numerical operations per second). This is very slow! \n",
    "\n",
    "The bottleneck here is not the operations themselves, but the type-checking and function dispatches that CPython must do at each cycle of the loop. Each time the reciprocal is computed, Python first examines the object's type and does a dynamic lookup of the correct function to use for that type. If we were working in compiled code instead, this type specification would be known before the code executes and the result could be computed much more efficiently.\n",
    "\n",
    "For many types of operations, NumPy provides a convenient interface for this kind of statically typed, compiled routine. This is known as a vectorized operation.\n",
    "\n",
    "<h3>b. Vectorized operations are much faster</h3> \n",
    "\n",
    "A vectorized operation is done by simply performing an operation directly on the array, which will then be applied to each element. This vectorized approach is designed to push the loop into the compiled layer that underlies NumPy, leading to much faster execution.\n",
    "\n",
    "**<span style='color:red'>Ex 4.</span> Run the following example: how long does it takes to go through the loop?**"
   ]
  },
  {
   "cell_type": "code",
   "execution_count": null,
   "id": "d964d750",
   "metadata": {},
   "outputs": [],
   "source": [
    "# The execution time for our big array is several orders of magnitude faster than the Python loop:\n",
    "%timeit (1.0 / big_array)"
   ]
  },
  {
   "cell_type": "markdown",
   "id": "16e5a177",
   "metadata": {},
   "source": [
    "<h2><span style='color:red'>II.2. NumPy's UFuncs</span></h2> \n",
    "Vectorized operations in NumPy are implemented via NumPy's universal functions (ufuncs), whose main purpose is to quickly execute repeated operations on values in NumPy arrays. \n",
    "\n",
    "Ufuncs are extremely flexible: you can perform operations between a scalar and an array, or also between two arrays. Operations can be done on arrays of any dimensions. For more information see [\"Array broadcasting in numpy\"](https://numpy.org/doc/stable/user/basics.broadcasting.html).\n",
    "\n",
    "\n",
    "<h3>a. Arithmetic Ufunc</h3> \n",
    "\n",
    "**Array arithmetic:** NumPy's ufuncs feel very natural to use because they make use of Python's native arithmetic operators. The standard addition, subtraction, multiplication, and division can all be used.\n",
    "\n",
    "Note that each of these arithmetic operations are simply convenient wrappers around specific functions built into NumPy; for example, the <code>+</code> operator is a wrapper for the <code>np.add()</code> function:"
   ]
  },
  {
   "cell_type": "code",
   "execution_count": null,
   "id": "de486377",
   "metadata": {},
   "outputs": [],
   "source": [
    "x = np.arange(4)\n",
    "print(x+5)\n",
    "print(np.add(x,5))"
   ]
  },
  {
   "cell_type": "markdown",
   "id": "27bc2c7d",
   "metadata": {},
   "source": [
    "The following table lists the arithmetic operators implemented in NumPy:\n",
    "\n",
    "python | equivalent numpy operator | operation\n",
    "---|---|---\n",
    "<code>+</code> | np.add | Addition (e.g., 1 + 1 = 2)\n",
    "<code>-</code> | np.subtract | Subtraction (e.g., 3 - 2 = 1)\n",
    "<code>-</code> | np.negative | Unary negation (e.g., -2)\n",
    "<code>*</code> | np.multiply | Multiplication (e.g., 2 * 3 = 6)\n",
    "<code>/</code> | np.divide | Division (e.g., 3 / 2 = 1.5)\n",
    "<code>//</code> | np.floor_divide | Floor division (e.g., 3 // 2 = 1)\n",
    "<code>**</code> | np.power | Exponentiation (e.g., 2 ** 3 = 8)\n",
    "<code>%</code> | np.mod | Modulus/remainder (e.g., 9 % 4 = 1)"
   ]
  },
  {
   "cell_type": "markdown",
   "id": "fad92564",
   "metadata": {},
   "source": [
    "**<span style='color:red'>Q8.</span> Can you re-write the following code (written with Python's list comprehension) with a one-line command using  operation on a python array?**"
   ]
  },
  {
   "cell_type": "code",
   "execution_count": null,
   "id": "8b2ec2a2",
   "metadata": {},
   "outputs": [],
   "source": [
    "print([i**2 for i in range(10)])\n",
    "\n",
    "# Solution to Q8:"
   ]
  },
  {
   "cell_type": "markdown",
   "id": "6018886c",
   "metadata": {},
   "source": [
    "**Operations between two arrays:** Ufuncs can operate between two arrays of the same shape:"
   ]
  },
  {
   "cell_type": "code",
   "execution_count": null,
   "id": "cb592c3c",
   "metadata": {},
   "outputs": [],
   "source": [
    "# The following operation divide each element of the first array by each element of the second array\n",
    "# operations are performed element by element.\n",
    "np.arange(5) / np.arange(1, 6)"
   ]
  },
  {
   "cell_type": "markdown",
   "id": "2d66cb3a",
   "metadata": {},
   "source": [
    "**<span style='color:red'>Q9.</span> This is a useful feature to perform operations on matrices. Can you define and sum the two following matrices: <code>A</code> is a 3x3 identity matrice, and <code>B</code> is a 3x3 matrice with all integer values 1 to 9 filled by line?**"
   ]
  },
  {
   "cell_type": "code",
   "execution_count": null,
   "id": "96d2c77f",
   "metadata": {},
   "outputs": [],
   "source": [
    "# Solution to Q9:"
   ]
  },
  {
   "cell_type": "markdown",
   "id": "81aa0ae4",
   "metadata": {},
   "source": [
    "<h3>b. Boolean operators and Masks</h3>\n",
    "\n",
    "Boolean/bitwise operators can also be used for element-wise operations on arrays:"
   ]
  },
  {
   "cell_type": "code",
   "execution_count": null,
   "id": "fb377cc0",
   "metadata": {},
   "outputs": [],
   "source": [
    "x=np.array(range(0, 100, 10))\n",
    "print(x)\n",
    "\n",
    "# Using boolean operator on arrays:\n",
    "x>=50"
   ]
  },
  {
   "cell_type": "markdown",
   "id": "aec15e67",
   "metadata": {},
   "source": [
    "**Masks:** You can use a list or an array of booleans to define which elements to keep or not in a given array. The list of boolean must have the same shape as the original array. Note that the returned array is copy (i.e., a new array, and not just a viewing as when you use 'slicing').\n",
    "\n",
    "For instance:"
   ]
  },
  {
   "cell_type": "code",
   "execution_count": null,
   "id": "54fb724e",
   "metadata": {},
   "outputs": [],
   "source": [
    "#boolean array as mask:\n",
    "# You can use a list of booleans to define which elements to keep or not\n",
    "x[[False, False, False, False, False,  True,  True,  True,  True,  True]]"
   ]
  },
  {
   "cell_type": "markdown",
   "id": "6d782430",
   "metadata": {},
   "source": [
    "**<span style='color:red'>Q10.</span> Using a boolean operator on an array and a mask: can you write a one-line code that extract the sub-list of <code>x</code> which contains only the elements of <code>x</code> that are larger or equal to 50?**"
   ]
  },
  {
   "cell_type": "code",
   "execution_count": null,
   "id": "1428c173",
   "metadata": {},
   "outputs": [],
   "source": [
    "# Answer to Q10:"
   ]
  },
  {
   "cell_type": "markdown",
   "id": "554807fa",
   "metadata": {},
   "source": [
    "<h3>c. Other useful Ufunc</h3>\n",
    "\n",
    "Other functions such as absolute value <code>np.abs()</code>, trigonometric functions \n",
    "(<code>np.sin()</code>, <code>np.cos()</code>, <code>np.tan()</code>, <code>np.arcsin()</code>, <code>np.arccos()</code>, <code>np.arctan()</code>), exponentials and logarithms, as well as other special functions, are also implemented as Ufunc in numpy. \n",
    "\n",
    "Check here [*Python Data Science Handbook*](https://jakevdp.github.io/PythonDataScienceHandbook/02.03-computation-on-arrays-ufuncs.html#Array-arithmetic) for examples of usage of these functions.\n"
   ]
  },
  {
   "cell_type": "markdown",
   "id": "45ff9af2",
   "metadata": {},
   "source": [
    "**<span style='color:red'>Q11.</span> From lab2, can you re-do the 'Exo 4. Sampling' in a single line, by using numpy array and the Ufunc features of numpy instead of a loop? Test your new sampling function on <code>np.exp()</code> and another function of your choice.**\n",
    "\n",
    "**Recall of the original exercise:** We would like to regularly sample a function <code>f(x)</code>.\n",
    "Can you write a function <code>Sampling(f, xmin, xmax, n)</code> that returns a list of the values of <code>f(x)</code> for <code>n</code> values of <code>x</code> regularly spaced between <code>xmin</code> and <code>xmax</code>?\n",
    "\n",
    "Try your code with the a function of your choice."
   ]
  },
  {
   "cell_type": "code",
   "execution_count": null,
   "id": "0db9d7cd",
   "metadata": {},
   "outputs": [],
   "source": [
    "# Answer to Q11:"
   ]
  },
  {
   "cell_type": "code",
   "execution_count": null,
   "id": "15e85ed1",
   "metadata": {},
   "outputs": [],
   "source": [
    "# Ex 1 with np.exp() between xmin=0, xmax=10 and n=20:"
   ]
  },
  {
   "cell_type": "code",
   "execution_count": null,
   "id": "c4435776",
   "metadata": {
    "scrolled": true
   },
   "outputs": [],
   "source": [
    "# Ex 2 with another function: (for example, f(x)=2*x, or anything else)"
   ]
  },
  {
   "cell_type": "markdown",
   "id": "08557014",
   "metadata": {},
   "source": [
    "**<span style='color:blue'>Q12.</span> Using a boolean operator on an array and a mask: can you write a one-line code that takes the logarithm of all the strictly positive elements of the array <code>a</code> below, and replace these values in <code>a</code>?**"
   ]
  },
  {
   "cell_type": "code",
   "execution_count": null,
   "id": "4e360966",
   "metadata": {},
   "outputs": [],
   "source": []
  },
  {
   "cell_type": "markdown",
   "id": "f2c22c8f",
   "metadata": {},
   "source": [
    "<h2><center> <span style='color:red'> III - Interesting uses of NumPy Arrays </span></center></h2>\n",
    "  \n",
    "<h2><span style='color:red'>III. 1. Simple data statistics with numpy arrays </span></h2>\n",
    "\n",
    "These are advanced Ufunc features.\n",
    "\n",
    "Often when faced with a large amount of data, a first step is to compute summary statistics for the data, such as mean and standard deviation, but other aggregates are useful as well (the sum, product, median, minimum and maximum, quantiles, etc.).\n",
    "\n",
    "NumPy has fast built-in aggregation functions for working on arrays.\n",
    "\n",
    "For instance, numpy as a <code>np.sum()</code> that does the same thing as the build-in <code>sum()</code> function of python, i.e. it computes the sum of the elements of an array. However, because it executes the operation in compiled code, NumPy's version of the operation is computed much more quickly:"
   ]
  },
  {
   "cell_type": "code",
   "execution_count": null,
   "id": "9b8457b6",
   "metadata": {},
   "outputs": [],
   "source": [
    "big_array = np.random.rand(1000000)\n",
    "%timeit sum(big_array)\n",
    "%timeit np.sum(big_array)"
   ]
  },
  {
   "cell_type": "markdown",
   "id": "8baf0df5",
   "metadata": {},
   "source": [
    "Same thing happens with the <code>min()</code> and <code>max()</code> functions:"
   ]
  },
  {
   "cell_type": "code",
   "execution_count": null,
   "id": "d692eced",
   "metadata": {},
   "outputs": [],
   "source": [
    "%timeit min(big_array)\n",
    "%timeit np.min(big_array)"
   ]
  },
  {
   "cell_type": "markdown",
   "id": "77514638",
   "metadata": {},
   "source": [
    "Whenever possible, make sure that you are using the NumPy version of these aggregates when operating on NumPy arrays!\n",
    "\n",
    "You can find [here](https://jakevdp.github.io/PythonDataScienceHandbook/02.04-computation-on-arrays-aggregates.html) a list of useful aggregation functions available in NumPy.\n",
    "\n",
    "**<span style='color:blue'>Q13.</span> <code>min()</code>, <code>max()</code> and <code>sum()</code> of an array are also implemented as methods of the array. Can you return these three values for <code>big_array</code> using array methods instead of numpy functions?**"
   ]
  },
  {
   "cell_type": "code",
   "execution_count": null,
   "id": "f95fda95",
   "metadata": {},
   "outputs": [],
   "source": [
    "# Answer to Q13:\n"
   ]
  },
  {
   "cell_type": "markdown",
   "id": "9364324e",
   "metadata": {},
   "source": [
    "**<span style='color:blue'>Q14.</span> Can you write a one-line code that returns $n!$ using the array method <code>prod()</code>? Test your code.**\n",
    "Remember that integers are encoded on 64-bits in numpy, and therefore you cannot compute $n!$ for $n>20$."
   ]
  },
  {
   "cell_type": "code",
   "execution_count": null,
   "id": "ab9d1052",
   "metadata": {},
   "outputs": [],
   "source": [
    "# Answer to Q14:\n"
   ]
  },
  {
   "cell_type": "markdown",
   "id": "6071c101",
   "metadata": {},
   "source": [
    "<h2><span style='color:red'>III. 2. Linear algebra </span></h2>\n",
    "\n",
    "A two-dimensional array is one representation of a matrix, and NumPy knows how to efficiently do typical matrix operations. For example, you can:\n",
    " - compute the transpose using <code>M.T</code>;\n",
    " - compute the dot product (for vector-vector product, matrix-vector product, or matrix-matrix product) using <code>np.dot(M1,M2)</code>;\n",
    " - compute the trace using <code>M.trace()</code>;\n",
    " - extract a vector of the diagonal elements, with <code>M.diagonal()</code>;\n",
    " - flatten the matrix using <code>M.flatten()</code>;\n",
    " - compute the cross product of two vectors, using <code>numpy.cross(V1, V2)</code>.\n",
    " \n",
    "You can also do more sophisticated operations from the numpy <code>np.linalg</code> package, such as:\n",
    " - get the matrix norm (or vector norm), with <code>np.linalg.norm(M)</code>;\n",
    " - get the rank of the matrix, with <code>np.linalg.matrix_rank(M)</code>;\n",
    " - get the determinant of a square matrix, with <code>np.linalg.det(M)</code>;\n",
    " - get the inverse of non-singular square matrix (with determinant different from 0), with <code>np.linalg.inv(M)</code>;\n",
    " - eigenvalue decomposition using <code>np.linalg.eigvals(M)</code>;\n",
    " - get a tuple (eigenvalues, eigenvectors) using <code>np.linalg.eig(M)</code>;\n",
    "\n",
    "Rem: there exists a numpy.matrix class. However, it is no longer recommended to use this class, even for linear algebra. Instead simply use regular arrays. The class may be removed in the future.\n"
   ]
  },
  {
   "cell_type": "markdown",
   "id": "7dd2d41a",
   "metadata": {},
   "source": [
    "**Remarque:** to transpose a vector, it should be defined as a 2d-array (a matrix), i.e. using double square brakets:"
   ]
  },
  {
   "cell_type": "code",
   "execution_count": null,
   "id": "40f1ea67",
   "metadata": {},
   "outputs": [],
   "source": [
    "%timeit min(big_array)\n",
    "%timeit np.min(big_array)"
   ]
  },
  {
   "cell_type": "markdown",
   "id": "b7220e6a",
   "metadata": {},
   "source": [
    "**<span style='color:red'>Q15.</span> Consider two matrices** \n",
    "$M_1=\\begin{pmatrix}\n",
    "0 & 1 & 2\\\\\n",
    "3 & 4 & 5\\\\\n",
    "6 & 7 & 8\n",
    "\\end{pmatrix}$ **and** $M_2=\\begin{pmatrix}\n",
    "2 & 1 & 0\\\\\n",
    "5 & 4 & 3\\\\\n",
    "8 & 7 & 6\n",
    "\\end{pmatrix}$ **and the identity matrix** $I_3$.\n",
    "\n",
    "**Can you check that the matrix $(I_3+M_2)$ is invertible, and compute the following operation?**\n",
    "\n",
    "$${\\rm Tr}\\big(M_1^T.(I_3+M_2)^{-1}\\big)$$"
   ]
  },
  {
   "cell_type": "code",
   "execution_count": null,
   "id": "629d3d7d",
   "metadata": {},
   "outputs": [],
   "source": [
    "# Answer to Q15:"
   ]
  },
  {
   "cell_type": "code",
   "execution_count": null,
   "id": "5d0709a6",
   "metadata": {},
   "outputs": [],
   "source": []
  },
  {
   "cell_type": "markdown",
   "id": "e1876479",
   "metadata": {},
   "source": [
    "<h2><span style='color:red'>III. 3. Random Arrays </span></h2>\n",
    "\n",
    "Using the library <code>np.random</code> of numpy.\n",
    "\n",
    "**<span style='color:red'>Q16.</span> Can you create the following matrices?**<br>\n",
    "Remember to use the <code>?</code> feature to get more information on a function.\n"
   ]
  },
  {
   "cell_type": "code",
   "execution_count": null,
   "id": "971d6d7e",
   "metadata": {},
   "outputs": [],
   "source": [
    "import numpy.random as rand  # Create alias: non necessary"
   ]
  },
  {
   "cell_type": "code",
   "execution_count": null,
   "id": "2913bbbe",
   "metadata": {},
   "outputs": [],
   "source": [
    "# Create a 3x3 array of uniformly distributed\n",
    "# random values between 0 and 1, using 'np.random.random()'"
   ]
  },
  {
   "cell_type": "code",
   "execution_count": null,
   "id": "989075c0",
   "metadata": {},
   "outputs": [],
   "source": [
    "# Create a 3x3 array of normally distributed random values\n",
    "# with mean 0 and standard deviation 1, using 'np.random.normal()'"
   ]
  },
  {
   "cell_type": "code",
   "execution_count": null,
   "id": "1c2fea45",
   "metadata": {},
   "outputs": [],
   "source": [
    "# Create a 3x4 array of random integers in the interval [0, 10)\n",
    "# using 'np.random.randint()'"
   ]
  },
  {
   "cell_type": "markdown",
   "id": "2d905fff",
   "metadata": {},
   "source": [
    "<h1><center> <span style='color:red'>Homework assignment:</span><br><br>\n",
    "    Programming with NumPy</center></h1>\n",
    "\n",
    "For the homework assignment, please provide your answers to the exercise H1 to H4 below. Exercise H5 is optional. Note that exercises H1 to H3 are rather short, while exercise H4 is much longer.\n",
    "\n",
    "\n",
    "The following exercises must be done **using numpy arrays**. When possible, use operations on numpy arrays instead of python loops."
   ]
  },
  {
   "cell_type": "markdown",
   "id": "a4abdf72",
   "metadata": {},
   "source": [
    "<h2>H1: Stacking in NumPy </h2>\n",
    "\n",
    "Using the functions <code>np.vstack()</code> (vertical stack of array) and <code>np.hstack()</code> (horizontal stack of array) -- or directly the function <code>np.concatenate()</code> -- can you write a code that create the following 2d-array:\n",
    "\n",
    "$$\n",
    "000000000\\\\\n",
    "100000001\\\\\n",
    "200090002\\\\\n",
    "300090003\\\\\n",
    "400090004\\\\\n",
    "500090005\\\\\n",
    "600090006\\\\\n",
    "700090007\\\\\n",
    "800090008\\\\\n",
    "999999999\\\\\n",
    "$$\n"
   ]
  },
  {
   "cell_type": "code",
   "execution_count": null,
   "id": "d8f8e036",
   "metadata": {},
   "outputs": [],
   "source": [
    "# Example: for stacking horizontally several arrays:\n",
    "grid = np.array([[1, 2, 3],\n",
    "                 [4, 5, 6]])\n",
    "\n",
    "y = np.array([[99],\n",
    "              [99]])\n",
    "np.hstack([grid, y, grid])"
   ]
  },
  {
   "cell_type": "code",
   "execution_count": null,
   "id": "ea0620c5",
   "metadata": {},
   "outputs": [],
   "source": [
    "# Answer to Exercise H1:"
   ]
  },
  {
   "cell_type": "markdown",
   "id": "fe7e42bd",
   "metadata": {},
   "source": [
    "<h2>H2: Norm of a vector </h2>\n",
    "\n",
    "Sample a $n$-dimensional vector <code>x</code> with random entries uniformly sampled between 0 and 1. Can you write a one-line code that compute the norm of this vector without using the function <code>np.linalg.norm()</code>? Check your result by comparing with the out of <code>np.linalg.norm()</code>."
   ]
  },
  {
   "cell_type": "code",
   "execution_count": null,
   "id": "8f74a4a1",
   "metadata": {},
   "outputs": [],
   "source": [
    "# Answer to Exercise H2:"
   ]
  },
  {
   "cell_type": "markdown",
   "id": "29fce186",
   "metadata": {},
   "source": [
    "<h2>H3: Statistics on population heights </h2>\n",
    "\n",
    "The following numpy array <code>data</code> contains the heights of 500 individuals in cm its second columns.\n",
    "\n",
    "  a. Can you extract this column in a numpy array named <code>heights</code> and check that there are indeed 500 values?\n",
    "  \n",
    "  b. Can you find out which are the smallest and the largest heights? what is the mean value? the standard deviation?\n",
    "  \n",
    "  c. Using the function <code>np.histogram()</code>, can you create an array that store the histogram of the heights by steps of 1cm? Check that the sum of the elements of that array is still equal to 500.\n",
    "  \n",
    "  d. Using a boolean mask, can you count how many 'Female' there is in the dataset? Can you find out which are the smallest and the largest heights among the women? among the men?\n",
    "  \n",
    "  e. Using the pandas function <code>pd.read_csv()</code> (as in the example below), can you extract the heights of the US presidents from the csv file 'president_heights_new.csv'? Can you also print out the values of the min, max, mean and std?"
   ]
  },
  {
   "cell_type": "code",
   "execution_count": null,
   "id": "230ebeb8",
   "metadata": {},
   "outputs": [],
   "source": [
    "import numpy as np\n",
    "import pandas as pd\n",
    "df=pd.read_csv('Lab3_500_Person_Gender_Height_Weight_Index.csv')\n",
    "data=df.values\n",
    "print(df)\n",
    "print(data)"
   ]
  },
  {
   "cell_type": "code",
   "execution_count": null,
   "id": "00963d95",
   "metadata": {},
   "outputs": [],
   "source": [
    "# Answer to question 1.a:"
   ]
  },
  {
   "cell_type": "code",
   "execution_count": null,
   "id": "be025678",
   "metadata": {},
   "outputs": [],
   "source": [
    "# Answer to question 1.b:"
   ]
  },
  {
   "cell_type": "code",
   "execution_count": null,
   "id": "eb1d1678",
   "metadata": {},
   "outputs": [],
   "source": [
    "# Answer to question 1.c:"
   ]
  },
  {
   "cell_type": "code",
   "execution_count": null,
   "id": "95bb7838",
   "metadata": {},
   "outputs": [],
   "source": [
    "# Answer to question 1.d:"
   ]
  },
  {
   "cell_type": "code",
   "execution_count": null,
   "id": "a3475d25",
   "metadata": {},
   "outputs": [],
   "source": [
    "# Answer to question 1.d: Female dataset:"
   ]
  },
  {
   "cell_type": "code",
   "execution_count": null,
   "id": "3c206a69",
   "metadata": {},
   "outputs": [],
   "source": [
    "# Answer to question 1.d: Male dataset:"
   ]
  },
  {
   "cell_type": "code",
   "execution_count": null,
   "id": "e65fbef2",
   "metadata": {
    "scrolled": true
   },
   "outputs": [],
   "source": [
    "# Answer to question 1.e:"
   ]
  },
  {
   "cell_type": "markdown",
   "id": "8660c1f1",
   "metadata": {},
   "source": [
    "<h2>H4: Laplace's equation and 3D plots </h2>\n",
    "\n",
    "Solving Laplace's equation in a 2-dimensional system. Four conductors with fixed potentials 100 Volts and 0 Volt are placed in a rectangular cavity with a fixed potential of 0 Volt (see figure).\n",
    "\n",
    "We want to compute the electrostatic potential $V(x, y)$ at any location within the cavity. For that, we need to solve numerically the equation (there is a unique solution):\n",
    "$$\\begin{cases}\n",
    "\\Delta V=0\\\\\n",
    "\\textrm{with the constraints that }\\qquad V = \\textrm{ fixed values on the condutors}\n",
    "\\end{cases}$$\n",
    "\n",
    "To do so, we compute the value of $V(x,y)=V_{i,j}$ at discreate positions $(i,j)$ on a regular lattice placed within the cavity, such that $i$ goes from 0 to 60 included, and $j$ from 0 to 105 included (see figure). Distances are measured in lattice steps. In this conditions, the solution of the equation can be obtained in the following way:\n",
    "\n",
    " 1. For all the points on a condutor (including the cavity borders), the potential has a fixed value;\n",
    " \n",
    " 2. For all the points within the cavity, the potential starts with an initial value $V=0$, we then update the values of all the V_{i,j} with the following formula:\n",
    "$$V_{i,j}=\\displaystyle\\frac{V_{i-1,j}+V_{i,j-1}+V_{i+1, j}+V_{i,j+1}}{4}$$\n",
    "i.e., for each point on the lattice, the potential take the value of the mean of its four neighboors.\n",
    "\n",
    " 3. We iterate point 2. until we reach a good convergence.\n",
    " \n",
    "**Q1.a:** Write a function that compute the value of the potential for a fixed number of iterations (given as argument of the function) and returns the matrix (2D numpy array) with the obtained value of the potential.\n",
    "\n",
    "**Q1.b:** Note that one can iterate over the entire grid using two Python loops, however we all know now that this would be much slower than performing directly operations on the NumPy arrays. \n",
    "If you haven't done it in the previous question, can you try to use NumPy operations/iterations instead of Python loops to answer the same question?\n",
    "Using the magic command <code>%time</code>, can you check how much faster the program runs?\n",
    "\n",
    "**Q2:** Can you plot the obtained potential using contour plots after the following number of iterations: $N_{it}=100$, $500$, $1000$, $2000$? Plot all the curves on the graph, by giving each curve a different color. Don't forget to label the curves.\n",
    "\n",
    "*Hints: check the example of use of the function <code>plt.contour()</code> in the section \"Part 5 - Density and Contour Plots\" of the notebook on Matplotlib, or use <code>ax.contour()</code>. To print the legend, use <code>plt.legend()</code> or <code>ax.legend()</code> with the correct arguments, or use <code>ax.clabel()</code> to print the values of the levels directly on the contours.*\n",
    "\n",
    "**Q2.b:** Can you overlay a heatmap of values of the potential with a contour plot of the potential at $N_{it}=2000$?\n",
    "\n",
    "*Hints: To plot a heatmap from a matrix, you can use <code>imshow()</code>, in which you can specify the argument <code>cmap</code> to change the color of the heatmap. You can use the [matplotlib library](https://matplotlib.org/stable/users/explain/colors/colormaps.html) <code>cm</code> to an external site. to choose different colormaps (for example you can use predefined colormaps such as <code>cmap=cm.coolwarm</code>, which will give you a blue to red heatmap).*\n",
    "\n",
    "**Q2.c:** Can you create a 3D-plot of the potential at $N_{it}=2000$?\n",
    "\n",
    "*Hints: For examples, check the section \"3D Contour and surface plots\" of the notebook on Matplotlib. For instance, you can use the function <code>ax.contour3D()</code>, or the function <code>ax.plot_surface()</code>.*\n",
    "\n",
    "**Q3:** Adjust the program of question 1 so that the code stop when one of these two conditions are satisfied:\n",
    "\n",
    " - the number of iterations specified by the user has been reached;\n",
    " \n",
    " - $|V_{ij}(n+1)-V_{i,j}(n)|<\\epsilon$ for all the points $(i,j)$ on the lattice, where $n$ is the current number of iterations, and $\\epsilon$ is a small precision value specified by the user as an argument of the function. \n",
    "\n",
    "How many iterations does the algorithm needs to do to reach a precision of $\\epsilon=0.1$? a precision of $\\epsilon=0.01$?"
   ]
  },
  {
   "cell_type": "code",
   "execution_count": 1,
   "id": "f2b54e10",
   "metadata": {},
   "outputs": [
    {
     "data": {
      "image/png": "[encoded data removed]",
      "text/plain": [
       "<IPython.core.display.Image object>"
      ]
     },
     "execution_count": 1,
     "metadata": {
      "image/png": {
       "width": 500
      }
     },
     "output_type": "execute_result"
    }
   ],
   "source": [
    "from IPython.display import Image\n",
    "Image('Laplace_fig.png', width=500)"
   ]
  },
  {
   "cell_type": "code",
   "execution_count": null,
   "id": "b1848e85",
   "metadata": {},
   "outputs": [],
   "source": []
  },
  {
   "cell_type": "markdown",
   "id": "d1babb5e",
   "metadata": {},
   "source": [
    "<h1><center> <span style='color:blue'>Optional Exercises:</span></center></h1>"
   ]
  },
  {
   "cell_type": "markdown",
   "id": "58400d03",
   "metadata": {},
   "source": [
    "<h2>H5 <span style='color:blue'>(optional)</span>: Divergence and Rotational of a vector field </h2>\n",
    "\n",
    "Consider a continuously differentiable vector field in 3d-space: $\\boldsymbol{F}(\\boldsymbol{r})=\\begin{pmatrix}F_x(\\boldsymbol{r})\\\\F_y(\\boldsymbol{r})\\\\F_z(\\boldsymbol{r})\\end{pmatrix}$\n",
    "\n",
    "1. In 3-dimensional Cartesian coordinates, the divergence of $\\boldsymbol{F}$ is defined as the scalar-valued function:\n",
    "$${\\rm div} \\boldsymbol{F} = \\frac{\\partial F_x}{\\partial x}+\\frac{\\partial F_y}{\\partial y}+\\frac{\\partial F_z}{\\partial z} $$<br>\n",
    "Can you define a function that takes as argument a vector field (represented as a list of three functions of a real vector $r$), a position $\\boldsymbol{r}$ (represented as an array of three real numbers), and a small step $h$, and that returns the value of the divergence in $\\boldsymbol{r}$?<br><br>\n",
    "Derivative can be calculated numerically using the approximate formula with small numerical step $h$:<br><br>\n",
    "$$f^{\\,\\prime}(x)\\simeq \\frac{f(x+h)-f(x-h)}{2h}$$\n",
    "\n",
    "\n",
    "2. In 3-dimensional Cartesian coordinates, the curl of $\\boldsymbol{F}$ is defined as the vector:<br>\n",
    "$$\\boldsymbol{\\nabla}\\times\\boldsymbol{F} = \n",
    "\\begin{pmatrix}\n",
    "    \\frac{\\partial F_z}{\\partial y}-\\frac{\\partial F_y}{\\partial z}\\\\\n",
    "    \\frac{\\partial F_x}{\\partial z}-\\frac{\\partial F_z}{\\partial x}\\\\\n",
    "    \\frac{\\partial F_y}{\\partial x}-\\frac{\\partial F_x}{\\partial y}\n",
    "\\end{pmatrix} $$<br>\n",
    "Can you define a function that takes as argument a vector field (represented as a list of three functions of a real vector $r$), a position $\\boldsymbol{r}$ (represented as an array of three real numbers), and a small step $h$, and that returns the value of the curl of $\\boldsymbol{F}$ in $\\boldsymbol{r}$?<br><br>"
   ]
  },
  {
   "cell_type": "code",
   "execution_count": null,
   "id": "f5497a25",
   "metadata": {},
   "outputs": [],
   "source": []
  }
 ],
 "metadata": {
  "kernelspec": {
   "display_name": "Python 3 (ipykernel)",
   "language": "python",
   "name": "python3"
  },
  "language_info": {
   "codemirror_mode": {
    "name": "ipython",
    "version": 3
   },
   "file_extension": ".py",
   "mimetype": "text/x-python",
   "name": "python",
   "nbconvert_exporter": "python",
   "pygments_lexer": "ipython3",
   "version": "3.10.0"
  }
 },
 "nbformat": 4,
 "nbformat_minor": 5
}
